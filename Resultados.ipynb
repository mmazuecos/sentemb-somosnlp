{
 "cells": [
  {
   "cell_type": "code",
   "execution_count": 1,
   "id": "eb11ab43",
   "metadata": {},
   "outputs": [],
   "source": [
    "import pandas as pd\n",
    "import os\n",
    "import json\n",
    "import numpy as np\n",
    "import matplotlib.pyplot as plt\n",
    "plt.style.use('classic')\n",
    "%matplotlib inline\n",
    "from savitzky_golay import savitzky_golay"
   ]
  },
  {
   "cell_type": "code",
   "execution_count": 2,
   "id": "ab64ad99",
   "metadata": {},
   "outputs": [],
   "source": [
    "# omar's beto\n",
    "omarbeto = pd.read_csv('output/training_nli_beto-2022-03-23_17-57-01/eval/similarity_evaluation_sts-dev_results.csv')\n",
    "omarbeto_res = omarbeto.drop(columns='steps').groupby('epoch').mean()\n",
    "best = omarbeto_res.values.sum(axis=1).argmax()\n",
    "omarbeto_best = omarbeto.drop(columns='steps').groupby('epoch').mean().loc[best]\n",
    "omarbeto_best.name = 'omarbeto'"
   ]
  },
  {
   "cell_type": "code",
   "execution_count": 3,
   "id": "71ad247d",
   "metadata": {},
   "outputs": [],
   "source": [
    "# bertin-stsv2\n",
    "bertinv2 = pd.read_csv('bertin-stsv2/eval/similarity_evaluation_sts-test_results.csv')\n",
    "best = bertinv2.drop(columns='steps').groupby('epoch').mean().sum(axis=1).argmax()\n",
    "bertinv2_best = bertinv2.drop(columns='steps').groupby('epoch').mean().loc[best]\n",
    "bertinv2_best.name = 'bertin'"
   ]
  },
  {
   "cell_type": "code",
   "execution_count": 4,
   "id": "9523bb20",
   "metadata": {},
   "outputs": [],
   "source": [
    "# bertin-stsv2-cls\n",
    "bertinhnli = pd.read_csv('bertin-stsv2-cls/eval/similarity_evaluation_sts-test_results.csv')\n",
    "best = bertinhnli.drop(columns='steps').groupby('epoch').mean().values.sum(axis=1).argmax()\n",
    "bertinv2_cls_best = bertinhnli.drop(columns='steps').groupby('epoch').mean().loc[best]\n",
    "bertinv2_cls_best.name = 'bertin-cls'"
   ]
  },
  {
   "cell_type": "code",
   "execution_count": 21,
   "id": "b76134c2",
   "metadata": {},
   "outputs": [
    {
     "name": "stdout",
     "output_type": "stream",
     "text": [
      "0\n"
     ]
    }
   ],
   "source": [
    "# bertin-stsv2-nodense\n",
    "bertinhnli = pd.read_csv('bertin-stsv2-nodense/eval/similarity_evaluation_sts-test_results.csv')\n",
    "best = bertinhnli.drop(columns='steps').groupby('epoch').mean().values.sum(axis=1).argmax()\n",
    "bertinv2_nodense_best =bertinhnli.drop(columns='steps').groupby('epoch').mean().loc[best]\n",
    "bertinv2_nodense_best.name = 'bertin-nodense'\n",
    "print(best)"
   ]
  },
  {
   "cell_type": "code",
   "execution_count": 6,
   "id": "98834436",
   "metadata": {},
   "outputs": [],
   "source": [
    "# bertin-stsv2-nodense-cls\n",
    "bertinhnli = pd.read_csv('bertin-stsv2-nodense-cls/eval/similarity_evaluation_sts-test_results.csv')\n",
    "best = bertinhnli.drop(columns='steps').groupby('epoch').mean().values.sum(axis=1).argmax()\n",
    "bertinv2_nodense_cls_best =bertinhnli.drop(columns='steps').groupby('epoch').mean().loc[best]\n",
    "bertinv2_nodense_cls_best.name = 'bertin-nodense-cls'"
   ]
  },
  {
   "cell_type": "code",
   "execution_count": 7,
   "id": "9a8e1f32",
   "metadata": {},
   "outputs": [
    {
     "data": {
      "text/html": [
       "<div>\n",
       "<style scoped>\n",
       "    .dataframe tbody tr th:only-of-type {\n",
       "        vertical-align: middle;\n",
       "    }\n",
       "\n",
       "    .dataframe tbody tr th {\n",
       "        vertical-align: top;\n",
       "    }\n",
       "\n",
       "    .dataframe thead th {\n",
       "        text-align: right;\n",
       "    }\n",
       "</style>\n",
       "<table border=\"1\" class=\"dataframe\">\n",
       "  <thead>\n",
       "    <tr style=\"text-align: right;\">\n",
       "      <th></th>\n",
       "      <th>omarbeto</th>\n",
       "      <th>bertin</th>\n",
       "      <th>bertin-cls</th>\n",
       "      <th>bertin-nodense</th>\n",
       "      <th>bertin-nodense-cls</th>\n",
       "      <th>argmax</th>\n",
       "    </tr>\n",
       "  </thead>\n",
       "  <tbody>\n",
       "    <tr>\n",
       "      <th>cosine_pearson</th>\n",
       "      <td>0.609803</td>\n",
       "      <td>0.669326</td>\n",
       "      <td>0.670681</td>\n",
       "      <td>0.683188</td>\n",
       "      <td>0.674987</td>\n",
       "      <td>3</td>\n",
       "    </tr>\n",
       "    <tr>\n",
       "      <th>cosine_spearman</th>\n",
       "      <td>0.528776</td>\n",
       "      <td>0.596159</td>\n",
       "      <td>0.598005</td>\n",
       "      <td>0.615916</td>\n",
       "      <td>0.608692</td>\n",
       "      <td>3</td>\n",
       "    </tr>\n",
       "    <tr>\n",
       "      <th>euclidean_pearson</th>\n",
       "      <td>0.590613</td>\n",
       "      <td>0.665561</td>\n",
       "      <td>0.670832</td>\n",
       "      <td>0.672601</td>\n",
       "      <td>0.667151</td>\n",
       "      <td>3</td>\n",
       "    </tr>\n",
       "    <tr>\n",
       "      <th>euclidean_spearman</th>\n",
       "      <td>0.526529</td>\n",
       "      <td>0.600940</td>\n",
       "      <td>0.607471</td>\n",
       "      <td>0.611539</td>\n",
       "      <td>0.608218</td>\n",
       "      <td>3</td>\n",
       "    </tr>\n",
       "    <tr>\n",
       "      <th>manhattan_pearson</th>\n",
       "      <td>0.589108</td>\n",
       "      <td>0.665463</td>\n",
       "      <td>0.670523</td>\n",
       "      <td>0.672040</td>\n",
       "      <td>0.666582</td>\n",
       "      <td>3</td>\n",
       "    </tr>\n",
       "    <tr>\n",
       "      <th>manhattan_spearman</th>\n",
       "      <td>0.525910</td>\n",
       "      <td>0.600947</td>\n",
       "      <td>0.606704</td>\n",
       "      <td>0.610517</td>\n",
       "      <td>0.607016</td>\n",
       "      <td>3</td>\n",
       "    </tr>\n",
       "    <tr>\n",
       "      <th>dot_pearson</th>\n",
       "      <td>0.544078</td>\n",
       "      <td>0.600923</td>\n",
       "      <td>0.644473</td>\n",
       "      <td>0.600517</td>\n",
       "      <td>0.669318</td>\n",
       "      <td>4</td>\n",
       "    </tr>\n",
       "    <tr>\n",
       "      <th>dot_spearman</th>\n",
       "      <td>0.460427</td>\n",
       "      <td>0.517005</td>\n",
       "      <td>0.561096</td>\n",
       "      <td>0.521260</td>\n",
       "      <td>0.603300</td>\n",
       "      <td>4</td>\n",
       "    </tr>\n",
       "  </tbody>\n",
       "</table>\n",
       "</div>"
      ],
      "text/plain": [
       "                    omarbeto    bertin  bertin-cls  bertin-nodense  \\\n",
       "cosine_pearson      0.609803  0.669326    0.670681        0.683188   \n",
       "cosine_spearman     0.528776  0.596159    0.598005        0.615916   \n",
       "euclidean_pearson   0.590613  0.665561    0.670832        0.672601   \n",
       "euclidean_spearman  0.526529  0.600940    0.607471        0.611539   \n",
       "manhattan_pearson   0.589108  0.665463    0.670523        0.672040   \n",
       "manhattan_spearman  0.525910  0.600947    0.606704        0.610517   \n",
       "dot_pearson         0.544078  0.600923    0.644473        0.600517   \n",
       "dot_spearman        0.460427  0.517005    0.561096        0.521260   \n",
       "\n",
       "                    bertin-nodense-cls  argmax  \n",
       "cosine_pearson                0.674987       3  \n",
       "cosine_spearman               0.608692       3  \n",
       "euclidean_pearson             0.667151       3  \n",
       "euclidean_spearman            0.608218       3  \n",
       "manhattan_pearson             0.666582       3  \n",
       "manhattan_spearman            0.607016       3  \n",
       "dot_pearson                   0.669318       4  \n",
       "dot_spearman                  0.603300       4  "
      ]
     },
     "execution_count": 7,
     "metadata": {},
     "output_type": "execute_result"
    }
   ],
   "source": [
    "res = pd.concat([\n",
    "        omarbeto_best,\n",
    "        bertinv2_best,\n",
    "        bertinv2_cls_best,\n",
    "        bertinv2_nodense_best,\n",
    "        bertinv2_nodense_cls_best\n",
    "      ], axis=1)\n",
    "\n",
    "res['argmax'] = res.values.argmax(axis=1)\n",
    "res"
   ]
  },
  {
   "cell_type": "code",
   "execution_count": 8,
   "id": "d9aca488",
   "metadata": {},
   "outputs": [
    {
     "data": {
      "text/plain": [
       "Text(0, 0.5, 'Loss0')"
      ]
     },
     "execution_count": 8,
     "metadata": {},
     "output_type": "execute_result"
    },
    {
     "data": {
      "image/png": "[encoded data removed]",
      "text/plain": [
       "<Figure size 432x288 with 1 Axes>"
      ]
     },
     "metadata": {
      "needs_background": "light"
     },
     "output_type": "display_data"
    }
   ],
   "source": [
    "with open(os.path.join('bertin-stsv2-cls','loss_digest.json')) as fl:\n",
    "    historic_loss = json.load(fl)\n",
    "    \n",
    "#hloss, ltype = np.log(np.array(historic_loss['0'])), 'log '  # <--- log domain\n",
    "hloss, ltype = np.array(historic_loss['0']), ''  # <--- dominio clasico\n",
    "hloss = savitzky_golay(hloss, 53, 4)\n",
    "plt.plot(range(len(historic_loss['0'])), hloss)\n",
    "plt.xlabel('Step')\n",
    "plt.ylabel(ltype+'Loss0')\n",
    "#plt.legend('Loss0', ncol=2, loc='upper left');"
   ]
  },
  {
   "cell_type": "code",
   "execution_count": 9,
   "id": "068ff716",
   "metadata": {},
   "outputs": [
    {
     "data": {
      "text/plain": [
       "Text(0, 0.5, 'Loss0')"
      ]
     },
     "execution_count": 9,
     "metadata": {},
     "output_type": "execute_result"
    },
    {
     "data": {
      "image/png": "[encoded data removed]",
      "text/plain": [
       "<Figure size 432x288 with 1 Axes>"
      ]
     },
     "metadata": {
      "needs_background": "light"
     },
     "output_type": "display_data"
    }
   ],
   "source": [
    "with open(os.path.join('bertin-stsv2-nodense','loss_digest.json')) as fl:\n",
    "    historic_loss = json.load(fl)\n",
    "    \n",
    "#hloss, ltype = np.log(np.array(historic_loss['0'])), 'log '  # <--- log domain\n",
    "hloss, ltype = np.array(historic_loss['0']), ''  # <--- dominio clasico\n",
    "hloss = savitzky_golay(hloss, 53, 4)\n",
    "plt.plot(range(len(historic_loss['0'])), hloss)\n",
    "plt.xlabel('Step')\n",
    "plt.ylabel(ltype+'Loss0')\n",
    "#plt.legend('Loss0', ncol=2, loc='upper left');"
   ]
  },
  {
   "cell_type": "code",
   "execution_count": 10,
   "id": "1b9a0a9b",
   "metadata": {},
   "outputs": [
    {
     "name": "stdout",
     "output_type": "stream",
     "text": [
      "Best Omar Beto: 19\n",
      "Best Bertin Huge NLI: 1\n",
      "Best Bertin V2: 1\n"
     ]
    }
   ],
   "source": [
    "omarbeto_res = omarbeto.drop(columns='steps').groupby('epoch').mean()\n",
    "bertinhnli_res = bertinhnli.drop(columns='steps').groupby('epoch').mean()\n",
    "bertinv2_res = bertinv2.drop(columns='steps').groupby('epoch').mean()\n",
    "\n",
    "best_omarbeto = omarbeto_res.values.sum(axis=1).argmax()\n",
    "best_bertinhnli = bertinhnli_res.values.sum(axis=1).argmax()\n",
    "best_bertinv2 = bertinv2_res.values.sum(axis=1).argmax()\n",
    "\n",
    "print('Best Omar Beto:', best_omarbeto)\n",
    "print('Best Bertin Huge NLI:', best_bertinhnli)\n",
    "print('Best Bertin V2:', best_bertinv2)"
   ]
  },
  {
   "cell_type": "code",
   "execution_count": 11,
   "id": "9864bff3",
   "metadata": {},
   "outputs": [
    {
     "data": {
      "text/plain": [
       "cosine_pearson        10.689467\n",
       "cosine_spearman       15.113284\n",
       "euclidean_pearson     12.958977\n",
       "euclidean_spearman    15.514639\n",
       "manhattan_pearson     13.151024\n",
       "manhattan_spearman    15.421902\n",
       "dot_pearson           23.018668\n",
       "dot_spearman          31.030531\n",
       "dtype: float64"
      ]
     },
     "execution_count": 11,
     "metadata": {},
     "output_type": "execute_result"
    }
   ],
   "source": [
    "omarbeto_best = omarbeto.drop(columns='steps').groupby('epoch').mean().loc[best_omarbeto]\n",
    "bertinhnli_best = bertinhnli.drop(columns='steps').groupby('epoch').mean().loc[best_bertinhnli]\n",
    "\n",
    "(bertinhnli_best / omarbeto_best)*100 - 100"
   ]
  },
  {
   "cell_type": "code",
   "execution_count": 26,
   "id": "f18ed667",
   "metadata": {},
   "outputs": [],
   "source": [
    "improv = (bertinv2_nodense_best / omarbeto_best)*100 - 100"
   ]
  },
  {
   "cell_type": "code",
   "execution_count": 27,
   "id": "4a9561fd",
   "metadata": {},
   "outputs": [
    {
     "data": {
      "text/html": [
       "<div>\n",
       "<style scoped>\n",
       "    .dataframe tbody tr th:only-of-type {\n",
       "        vertical-align: middle;\n",
       "    }\n",
       "\n",
       "    .dataframe tbody tr th {\n",
       "        vertical-align: top;\n",
       "    }\n",
       "\n",
       "    .dataframe thead th {\n",
       "        text-align: right;\n",
       "    }\n",
       "</style>\n",
       "<table border=\"1\" class=\"dataframe\">\n",
       "  <thead>\n",
       "    <tr style=\"text-align: right;\">\n",
       "      <th></th>\n",
       "      <th>BETO STS</th>\n",
       "      <th>BERTIN STS</th>\n",
       "      <th>0</th>\n",
       "    </tr>\n",
       "  </thead>\n",
       "  <tbody>\n",
       "    <tr>\n",
       "      <th>cosine_pearson</th>\n",
       "      <td>0.609803</td>\n",
       "      <td>0.683188</td>\n",
       "      <td>12.034386</td>\n",
       "    </tr>\n",
       "    <tr>\n",
       "      <th>cosine_spearman</th>\n",
       "      <td>0.528776</td>\n",
       "      <td>0.615916</td>\n",
       "      <td>16.479504</td>\n",
       "    </tr>\n",
       "    <tr>\n",
       "      <th>euclidean_pearson</th>\n",
       "      <td>0.590613</td>\n",
       "      <td>0.672601</td>\n",
       "      <td>13.881723</td>\n",
       "    </tr>\n",
       "    <tr>\n",
       "      <th>euclidean_spearman</th>\n",
       "      <td>0.526529</td>\n",
       "      <td>0.611539</td>\n",
       "      <td>16.145474</td>\n",
       "    </tr>\n",
       "    <tr>\n",
       "      <th>manhattan_pearson</th>\n",
       "      <td>0.589108</td>\n",
       "      <td>0.672040</td>\n",
       "      <td>14.077524</td>\n",
       "    </tr>\n",
       "    <tr>\n",
       "      <th>manhattan_spearman</th>\n",
       "      <td>0.525910</td>\n",
       "      <td>0.610517</td>\n",
       "      <td>16.087698</td>\n",
       "    </tr>\n",
       "    <tr>\n",
       "      <th>dot_pearson</th>\n",
       "      <td>0.544078</td>\n",
       "      <td>0.600517</td>\n",
       "      <td>10.373192</td>\n",
       "    </tr>\n",
       "    <tr>\n",
       "      <th>dot_spearman</th>\n",
       "      <td>0.460427</td>\n",
       "      <td>0.521260</td>\n",
       "      <td>13.212257</td>\n",
       "    </tr>\n",
       "  </tbody>\n",
       "</table>\n",
       "</div>"
      ],
      "text/plain": [
       "                    BETO STS  BERTIN STS          0\n",
       "cosine_pearson      0.609803    0.683188  12.034386\n",
       "cosine_spearman     0.528776    0.615916  16.479504\n",
       "euclidean_pearson   0.590613    0.672601  13.881723\n",
       "euclidean_spearman  0.526529    0.611539  16.145474\n",
       "manhattan_pearson   0.589108    0.672040  14.077524\n",
       "manhattan_spearman  0.525910    0.610517  16.087698\n",
       "dot_pearson         0.544078    0.600517  10.373192\n",
       "dot_spearman        0.460427    0.521260  13.212257"
      ]
     },
     "execution_count": 27,
     "metadata": {},
     "output_type": "execute_result"
    }
   ],
   "source": [
    "omarbeto_best.name = 'BETO STS'\n",
    "bertinv2_nodense_best.name = 'BERTIN STS'\n",
    "pd.concat([omarbeto_best, bertinv2_nodense_best, improv], axis=1)"
   ]
  },
  {
   "cell_type": "code",
   "execution_count": 25,
   "id": "b842f6ba",
   "metadata": {},
   "outputs": [
    {
     "data": {
      "text/plain": [
       "112.03421432823389"
      ]
     },
     "execution_count": 25,
     "metadata": {},
     "output_type": "execute_result"
    }
   ],
   "source": [
    "0.683188/0.609803 * 100"
   ]
  },
  {
   "cell_type": "code",
   "execution_count": null,
   "id": "4f9e36af",
   "metadata": {},
   "outputs": [],
   "source": []
  },
  {
   "cell_type": "code",
   "execution_count": null,
   "id": "ea4821ec",
   "metadata": {},
   "outputs": [],
   "source": []
  }
 ],
 "metadata": {
  "kernelspec": {
   "display_name": "Python 3",
   "language": "python",
   "name": "python3"
  },
  "language_info": {
   "codemirror_mode": {
    "name": "ipython",
    "version": 3
   },
   "file_extension": ".py",
   "mimetype": "text/x-python",
   "name": "python",
   "nbconvert_exporter": "python",
   "pygments_lexer": "ipython3",
   "version": "3.9.5"
  }
 },
 "nbformat": 4,
 "nbformat_minor": 5
}
