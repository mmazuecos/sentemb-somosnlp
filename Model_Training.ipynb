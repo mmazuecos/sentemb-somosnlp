{
 "cells": [
  {
   "cell_type": "markdown",
   "id": "0a697e0e",
   "metadata": {},
   "source": [
    "Cambiar el archivo SentenceTransformer.py en sentence-transformer e instalar con pip install -e sentence-transforme"
   ]
  },
  {
   "cell_type": "code",
   "execution_count": 1,
   "id": "80461198",
   "metadata": {},
   "outputs": [],
   "source": [
    "from sentence_transformers import SentenceTransformer, models, datasets\n",
    "from torch import nn\n",
    "from sentence_transformers import LoggingHandler, SentenceTransformer, util, InputExample\n",
    "import torch\n",
    "from torch.utils.data import DataLoader\n",
    "from sentence_transformers import evaluation\n",
    "import pandas as pd\n",
    "from sentence_transformers import models, losses\n",
    "import matplotlib.pyplot as plt\n",
    "plt.style.use('classic')\n",
    "%matplotlib inline\n",
    "import numpy as np\n",
    "import pandas as pd\n",
    "import random\n",
    "import csv\n",
    "import json\n",
    "from sklearn.model_selection import train_test_split\n",
    "import os\n",
    "from sentence_transformers.evaluation import EmbeddingSimilarityEvaluator"
   ]
  },
  {
   "cell_type": "markdown",
   "id": "32f5a148",
   "metadata": {},
   "source": [
    "## Experiment Config\n",
    "\n",
    "Descomentar para el backbone deseado. Luego se puede Restart & Run all"
   ]
  },
  {
   "cell_type": "code",
   "execution_count": 2,
   "id": "188583c4",
   "metadata": {},
   "outputs": [],
   "source": [
    "### CONFIG\n",
    "#### Beto\n",
    "#model_path = 'beto-sentemb'\n",
    "#hugging_face_model_name = 'espejelomar/beto-base-cased'\n",
    "#batch_size = 64\n",
    "\n",
    "### Bertin\n",
    "model_path = 'bertin-sentemb'\n",
    "hugging_face_model_name = 'bertin-project/bertin-roberta-base-spanish'\n",
    "batch_size = 64\n",
    "\n",
    "#### Roberta\n",
    "#model_path = 'roberta-sentemb'\n",
    "#hugging_face_model_name = 'PlanTL-GOB-ES/roberta-base-bne'\n",
    "#batch_size = 64\n"
   ]
  },
  {
   "cell_type": "code",
   "execution_count": 3,
   "id": "a13e6688",
   "metadata": {},
   "outputs": [
    {
     "data": {
      "text/plain": [
       "'NVIDIA A30'"
      ]
     },
     "execution_count": 3,
     "metadata": {},
     "output_type": "execute_result"
    }
   ],
   "source": [
    "torch.cuda.get_device_name(0)"
   ]
  },
  {
   "cell_type": "markdown",
   "id": "37bd9adb",
   "metadata": {},
   "source": [
    "## Modelo\n",
    "\n",
    "Siguiendo el esquema de entrenamiento para NLI de [este paper](https://arxiv.org/pdf/1908.10084.pdf).\n",
    "\n",
    "Dimensiones a *ojímetro*."
   ]
  },
  {
   "cell_type": "code",
   "execution_count": 4,
   "id": "6d703881",
   "metadata": {},
   "outputs": [
    {
     "name": "stderr",
     "output_type": "stream",
     "text": [
      "Some weights of the model checkpoint at bertin-project/bertin-roberta-base-spanish were not used when initializing RobertaModel: ['lm_head.dense.bias', 'lm_head.dense.weight', 'lm_head.bias', 'lm_head.layer_norm.bias', 'lm_head.layer_norm.weight']\n",
      "- This IS expected if you are initializing RobertaModel from the checkpoint of a model trained on another task or with another architecture (e.g. initializing a BertForSequenceClassification model from a BertForPreTraining model).\n",
      "- This IS NOT expected if you are initializing RobertaModel from the checkpoint of a model that you expect to be exactly identical (initializing a BertForSequenceClassification model from a BertForSequenceClassification model).\n",
      "Some weights of RobertaModel were not initialized from the model checkpoint at bertin-project/bertin-roberta-base-spanish and are newly initialized: ['roberta.pooler.dense.bias', 'roberta.pooler.dense.weight']\n",
      "You should probably TRAIN this model on a down-stream task to be able to use it for predictions and inference.\n"
     ]
    },
    {
     "data": {
      "text/plain": [
       "SentenceTransformer(\n",
       "  (0): Transformer({'max_seq_length': 514, 'do_lower_case': False}) with Transformer model: RobertaModel \n",
       "  (1): Pooling({'word_embedding_dimension': 768, 'pooling_mode_cls_token': False, 'pooling_mode_mean_tokens': True, 'pooling_mode_max_tokens': False, 'pooling_mode_mean_sqrt_len_tokens': False})\n",
       "  (2): Dense({'in_features': 768, 'out_features': 512, 'bias': True, 'activation_function': 'torch.nn.modules.activation.Tanh'})\n",
       ")"
      ]
     },
     "execution_count": 4,
     "metadata": {},
     "output_type": "execute_result"
    }
   ],
   "source": [
    "word_embedding_model = models.Transformer(hugging_face_model_name)\n",
    "pooling_model = models.Pooling(word_embedding_model.get_word_embedding_dimension(),\n",
    "                               pooling_mode_mean_tokens=True,\n",
    "                               pooling_mode_cls_token=False,\n",
    "                               pooling_mode_max_tokens=False)\n",
    "dense_model = models.Dense(in_features=pooling_model.get_sentence_embedding_dimension(),\n",
    "                           out_features=512, #ojimetro\n",
    "                           activation_function=nn.Tanh())\n",
    "\n",
    "model = SentenceTransformer(modules=[word_embedding_model, pooling_model, dense_model])\n",
    "model.cuda()"
   ]
  },
  {
   "cell_type": "markdown",
   "id": "4e20bfe1",
   "metadata": {},
   "source": [
    "## Dataset"
   ]
  },
  {
   "cell_type": "markdown",
   "id": "4e919443",
   "metadata": {},
   "source": [
    "Ver el dataset:\n",
    "```\n",
    "esxnli = pd.read_table('esxnli.tsv')\n",
    "label2int = {\"contradiction\": 0, \"entailment\": 1, \"neutral\": 2}\n",
    "es_only_data = esxnli[esxnli.language == 'es']\n",
    "es_only_data[['language', 'sentence1', 'sentence2', 'gold_label', 'promptID', 'pairID', 'genre', 'label1']]\n",
    "```"
   ]
  },
  {
   "cell_type": "markdown",
   "id": "8e76b51e",
   "metadata": {},
   "source": [
    "Datos de entrenamiento en NLI"
   ]
  },
  {
   "cell_type": "code",
   "execution_count": 5,
   "id": "25f32a24",
   "metadata": {},
   "outputs": [],
   "source": [
    "# Creditos a Omar Espejel\n",
    "train_data = {}\n",
    "\n",
    "def add_to_samples(sent1, sent2, label):\n",
    "    if sent1 not in train_data:\n",
    "        train_data[sent1] = {'contradiction': set(), 'entailment': set(), 'neutral': set()}\n",
    "    train_data[sent1][label].add(sent2)\n",
    "    \n",
    "with open('esxnli.tsv') as dataset:\n",
    "  reader = csv.DictReader(dataset, delimiter='\\t', quoting=csv.QUOTE_NONE)\n",
    "  for row in reader:\n",
    "    if row['language'] == 'es':\n",
    "      \n",
    "      sent1 = row['sentence1'].strip()\n",
    "      sent2 = row['sentence2'].strip()\n",
    "    \n",
    "      add_to_samples(sent1, sent2, row['gold_label'])\n",
    "      add_to_samples(sent2, sent1, row['gold_label'])  #Also add the opposite\n",
    "    \n",
    "train_samples = []\n",
    "for sent1, others in train_data.items():\n",
    "    if len(others['entailment']) > 0 and len(others['contradiction']) > 0:\n",
    "        train_samples.append(InputExample(texts=[sent1, random.choice(list(others['entailment'])), random.choice(list(others['contradiction']))]))\n",
    "        train_samples.append(InputExample(texts=[random.choice(list(others['entailment'])), sent1, random.choice(list(others['contradiction']))]))\n",
    "\n",
    "# Special data loader that avoid duplicates within a batch\n",
    "train_dataloader = datasets.NoDuplicatesDataLoader(train_samples, batch_size=64)"
   ]
  },
  {
   "cell_type": "markdown",
   "id": "5f437930",
   "metadata": {},
   "source": [
    "Datos de testing en STS"
   ]
  },
  {
   "cell_type": "code",
   "execution_count": 6,
   "id": "65789b54",
   "metadata": {},
   "outputs": [],
   "source": [
    "sts_root = 'sts2015-es'\n",
    "sts_files = [('STS.gs.newswire.txt', 'STS.input.newswire.txt'),\n",
    "             ('STS.gs.wikipedia.txt', 'STS.input.wikipedia.txt')]\n",
    "\n",
    "dev_examples = []\n",
    "for gs_fname, sents_fname in sts_files:\n",
    "    gs = open(os.path.join(sts_root, gs_fname))\n",
    "    sents = open(os.path.join(sts_root, sents_fname))\n",
    "    for g, s in zip(gs, sents):\n",
    "        sent1, sent2 = s.split('\\t')\n",
    "        dp = InputExample(texts=[sent1, sent2], label=float(g))\n",
    "        dev_examples.append(dp)\n",
    "gs.close()\n",
    "sents.close()\n",
    "    \n",
    "evaluator = EmbeddingSimilarityEvaluator.from_input_examples(dev_examples, batch_size=batch_size,\n",
    "                                                             name='sts-dev')"
   ]
  },
  {
   "cell_type": "markdown",
   "id": "2b4daefc",
   "metadata": {},
   "source": [
    "## Callback "
   ]
  },
  {
   "cell_type": "code",
   "execution_count": 7,
   "id": "368e518e",
   "metadata": {},
   "outputs": [],
   "source": [
    "class Printable:\n",
    "    def __init__(self, skip: int = 1) -> None:\n",
    "        \"\"\"\n",
    "        Params\n",
    "        ------\n",
    "        skip: int, optional\n",
    "          skip every skip epochs. Default: 1\n",
    "        \"\"\"\n",
    "        self.skip = skip\n",
    "  \n",
    "    def __call__(self, score, epoch, steps) -> None:\n",
    "        if epoch % self.skip == 0:\n",
    "            print('--- Evaluation report ---')\n",
    "            print('Epoch {}: {}'.format(epoch, score))\n",
    "            \n",
    "callback = Printable(skip=5)"
   ]
  },
  {
   "cell_type": "markdown",
   "id": "09f085cd",
   "metadata": {},
   "source": [
    "## Loss"
   ]
  },
  {
   "cell_type": "code",
   "execution_count": 8,
   "id": "f1efacbf",
   "metadata": {},
   "outputs": [],
   "source": [
    "# Our training loss\n",
    "train_loss = losses.MultipleNegativesRankingLoss(model)"
   ]
  },
  {
   "cell_type": "markdown",
   "id": "941a4ee7",
   "metadata": {},
   "source": [
    "## Training"
   ]
  },
  {
   "cell_type": "code",
   "execution_count": 9,
   "id": "821bf448",
   "metadata": {},
   "outputs": [
    {
     "name": "stderr",
     "output_type": "stream",
     "text": [
      "/users/mmazuecos/miniconda3/envs/rud/lib/python3.9/site-packages/transformers/optimization.py:306: FutureWarning: This implementation of AdamW is deprecated and will be removed in a future version. Use the PyTorch implementation torch.optim.AdamW instead, or set `no_deprecation_warning=True` to disable this warning\n",
      "  warnings.warn(\n"
     ]
    },
    {
     "data": {
      "application/vnd.jupyter.widget-view+json": {
       "model_id": "50bc62c5be274795996922ee11040bfa",
       "version_major": 2,
       "version_minor": 0
      },
      "text/plain": [
       "Epoch:   0%|          | 0/20 [00:00<?, ?it/s]"
      ]
     },
     "metadata": {},
     "output_type": "display_data"
    },
    {
     "data": {
      "application/vnd.jupyter.widget-view+json": {
       "model_id": "2b4e09ee45bb4e2886b79cbeaa887939",
       "version_major": 2,
       "version_minor": 0
      },
      "text/plain": [
       "Iteration:   0%|          | 0/25 [00:00<?, ?it/s]"
      ]
     },
     "metadata": {},
     "output_type": "display_data"
    },
    {
     "data": {
      "application/vnd.jupyter.widget-view+json": {
       "model_id": "fdff02342a9e4e23bf7f6067303e2ad3",
       "version_major": 2,
       "version_minor": 0
      },
      "text/plain": [
       "Iteration:   0%|          | 0/25 [00:00<?, ?it/s]"
      ]
     },
     "metadata": {},
     "output_type": "display_data"
    },
    {
     "data": {
      "application/vnd.jupyter.widget-view+json": {
       "model_id": "20466ac21ccf4fe4aadd539d812577e3",
       "version_major": 2,
       "version_minor": 0
      },
      "text/plain": [
       "Iteration:   0%|          | 0/25 [00:00<?, ?it/s]"
      ]
     },
     "metadata": {},
     "output_type": "display_data"
    },
    {
     "data": {
      "application/vnd.jupyter.widget-view+json": {
       "model_id": "5bfc12ebc02a40cda0c00be49e84ec52",
       "version_major": 2,
       "version_minor": 0
      },
      "text/plain": [
       "Iteration:   0%|          | 0/25 [00:00<?, ?it/s]"
      ]
     },
     "metadata": {},
     "output_type": "display_data"
    },
    {
     "data": {
      "application/vnd.jupyter.widget-view+json": {
       "model_id": "722c26f813b64bcea10ebf3ee315eb69",
       "version_major": 2,
       "version_minor": 0
      },
      "text/plain": [
       "Iteration:   0%|          | 0/25 [00:00<?, ?it/s]"
      ]
     },
     "metadata": {},
     "output_type": "display_data"
    },
    {
     "data": {
      "application/vnd.jupyter.widget-view+json": {
       "model_id": "01066406c902460a80a811e5ed3f2a50",
       "version_major": 2,
       "version_minor": 0
      },
      "text/plain": [
       "Iteration:   0%|          | 0/25 [00:00<?, ?it/s]"
      ]
     },
     "metadata": {},
     "output_type": "display_data"
    },
    {
     "data": {
      "application/vnd.jupyter.widget-view+json": {
       "model_id": "d71575d869334056b9214ed7c851ce47",
       "version_major": 2,
       "version_minor": 0
      },
      "text/plain": [
       "Iteration:   0%|          | 0/25 [00:00<?, ?it/s]"
      ]
     },
     "metadata": {},
     "output_type": "display_data"
    },
    {
     "data": {
      "application/vnd.jupyter.widget-view+json": {
       "model_id": "b46698c81c3b42569ffca7fb01fc83ae",
       "version_major": 2,
       "version_minor": 0
      },
      "text/plain": [
       "Iteration:   0%|          | 0/25 [00:00<?, ?it/s]"
      ]
     },
     "metadata": {},
     "output_type": "display_data"
    },
    {
     "data": {
      "application/vnd.jupyter.widget-view+json": {
       "model_id": "473dd2d04f5a4d5cac8bece8ee8a8780",
       "version_major": 2,
       "version_minor": 0
      },
      "text/plain": [
       "Iteration:   0%|          | 0/25 [00:00<?, ?it/s]"
      ]
     },
     "metadata": {},
     "output_type": "display_data"
    },
    {
     "data": {
      "application/vnd.jupyter.widget-view+json": {
       "model_id": "90346bf261494d5f8adef0bcdafb3705",
       "version_major": 2,
       "version_minor": 0
      },
      "text/plain": [
       "Iteration:   0%|          | 0/25 [00:00<?, ?it/s]"
      ]
     },
     "metadata": {},
     "output_type": "display_data"
    },
    {
     "data": {
      "application/vnd.jupyter.widget-view+json": {
       "model_id": "08699d8d55534b95b80e897c190921c5",
       "version_major": 2,
       "version_minor": 0
      },
      "text/plain": [
       "Iteration:   0%|          | 0/25 [00:00<?, ?it/s]"
      ]
     },
     "metadata": {},
     "output_type": "display_data"
    },
    {
     "data": {
      "application/vnd.jupyter.widget-view+json": {
       "model_id": "2881b05765c448ddad2c00fab44b4e23",
       "version_major": 2,
       "version_minor": 0
      },
      "text/plain": [
       "Iteration:   0%|          | 0/25 [00:00<?, ?it/s]"
      ]
     },
     "metadata": {},
     "output_type": "display_data"
    },
    {
     "data": {
      "application/vnd.jupyter.widget-view+json": {
       "model_id": "cacb0cfd4af04b2c8db5a26d4c47480e",
       "version_major": 2,
       "version_minor": 0
      },
      "text/plain": [
       "Iteration:   0%|          | 0/25 [00:00<?, ?it/s]"
      ]
     },
     "metadata": {},
     "output_type": "display_data"
    },
    {
     "data": {
      "application/vnd.jupyter.widget-view+json": {
       "model_id": "53ef219d5878499e9a3543d10bf53b6d",
       "version_major": 2,
       "version_minor": 0
      },
      "text/plain": [
       "Iteration:   0%|          | 0/25 [00:00<?, ?it/s]"
      ]
     },
     "metadata": {},
     "output_type": "display_data"
    },
    {
     "data": {
      "application/vnd.jupyter.widget-view+json": {
       "model_id": "90ecdf1ec2154a459f327b5599b76282",
       "version_major": 2,
       "version_minor": 0
      },
      "text/plain": [
       "Iteration:   0%|          | 0/25 [00:00<?, ?it/s]"
      ]
     },
     "metadata": {},
     "output_type": "display_data"
    },
    {
     "data": {
      "application/vnd.jupyter.widget-view+json": {
       "model_id": "e1e27e84b037427d8080b5cc07bad79b",
       "version_major": 2,
       "version_minor": 0
      },
      "text/plain": [
       "Iteration:   0%|          | 0/25 [00:00<?, ?it/s]"
      ]
     },
     "metadata": {},
     "output_type": "display_data"
    },
    {
     "data": {
      "application/vnd.jupyter.widget-view+json": {
       "model_id": "618d85daa417435fa1c962eb7f9af19d",
       "version_major": 2,
       "version_minor": 0
      },
      "text/plain": [
       "Iteration:   0%|          | 0/25 [00:00<?, ?it/s]"
      ]
     },
     "metadata": {},
     "output_type": "display_data"
    },
    {
     "data": {
      "application/vnd.jupyter.widget-view+json": {
       "model_id": "29f8308d7226475d908e6b3d002ff14e",
       "version_major": 2,
       "version_minor": 0
      },
      "text/plain": [
       "Iteration:   0%|          | 0/25 [00:00<?, ?it/s]"
      ]
     },
     "metadata": {},
     "output_type": "display_data"
    },
    {
     "data": {
      "application/vnd.jupyter.widget-view+json": {
       "model_id": "7303a54993314d1bb56091fc79a4a9b9",
       "version_major": 2,
       "version_minor": 0
      },
      "text/plain": [
       "Iteration:   0%|          | 0/25 [00:00<?, ?it/s]"
      ]
     },
     "metadata": {},
     "output_type": "display_data"
    },
    {
     "data": {
      "application/vnd.jupyter.widget-view+json": {
       "model_id": "5a3e1f22e4c84c02a2dfc26b78222def",
       "version_major": 2,
       "version_minor": 0
      },
      "text/plain": [
       "Iteration:   0%|          | 0/25 [00:00<?, ?it/s]"
      ]
     },
     "metadata": {},
     "output_type": "display_data"
    }
   ],
   "source": [
    "model.fit(train_objectives=[(train_dataloader, train_loss)], epochs=20,\n",
    "          warmup_steps=100, evaluator=evaluator, evaluation_steps=500,\n",
    "          output_path=model_path, show_progress_bar=True)\n",
    "          #output_path='beto-sentemb', show_progress_bar=True, callback=callback)"
   ]
  },
  {
   "cell_type": "markdown",
   "id": "d489a444",
   "metadata": {},
   "source": [
    "## Inspeccionar loss y performance"
   ]
  },
  {
   "cell_type": "code",
   "execution_count": 10,
   "id": "b1bb3c4d",
   "metadata": {},
   "outputs": [],
   "source": [
    "from savitzky_golay import savitzky_golay\n",
    "with open(os.path.join(model_path,'loss_digest.json')) as fl:\n",
    "    historic_loss = json.load(fl)"
   ]
  },
  {
   "cell_type": "code",
   "execution_count": 11,
   "id": "0c352fdb",
   "metadata": {},
   "outputs": [
    {
     "data": {
      "text/plain": [
       "Text(0, 0.5, 'Loss0')"
      ]
     },
     "execution_count": 11,
     "metadata": {},
     "output_type": "execute_result"
    },
    {
     "data": {
      "image/png": "[encoded data removed]",
      "text/plain": [
       "<Figure size 432x288 with 1 Axes>"
      ]
     },
     "metadata": {
      "needs_background": "light"
     },
     "output_type": "display_data"
    }
   ],
   "source": [
    "#hloss, ltype = np.log(np.array(historic_loss['0'])), 'log '  # <--- log domain\n",
    "hloss, ltype = np.array(historic_loss['0']), ''  # <--- dominio clasico\n",
    "hloss = savitzky_golay(hloss, 53, 4)\n",
    "plt.plot(range(len(historic_loss['0'])), hloss)\n",
    "plt.xlabel('Step')\n",
    "plt.ylabel(ltype+'Loss0')\n",
    "#plt.legend('Loss0', ncol=2, loc='upper left');"
   ]
  },
  {
   "cell_type": "code",
   "execution_count": 12,
   "id": "d4969424",
   "metadata": {
    "scrolled": true
   },
   "outputs": [
    {
     "data": {
      "text/html": [
       "<div>\n",
       "<style scoped>\n",
       "    .dataframe tbody tr th:only-of-type {\n",
       "        vertical-align: middle;\n",
       "    }\n",
       "\n",
       "    .dataframe tbody tr th {\n",
       "        vertical-align: top;\n",
       "    }\n",
       "\n",
       "    .dataframe thead th {\n",
       "        text-align: right;\n",
       "    }\n",
       "</style>\n",
       "<table border=\"1\" class=\"dataframe\">\n",
       "  <thead>\n",
       "    <tr style=\"text-align: right;\">\n",
       "      <th></th>\n",
       "      <th>cosine_pearson</th>\n",
       "      <th>cosine_spearman</th>\n",
       "      <th>euclidean_pearson</th>\n",
       "      <th>euclidean_spearman</th>\n",
       "      <th>manhattan_pearson</th>\n",
       "      <th>manhattan_spearman</th>\n",
       "      <th>dot_pearson</th>\n",
       "      <th>dot_spearman</th>\n",
       "    </tr>\n",
       "    <tr>\n",
       "      <th>epoch</th>\n",
       "      <th></th>\n",
       "      <th></th>\n",
       "      <th></th>\n",
       "      <th></th>\n",
       "      <th></th>\n",
       "      <th></th>\n",
       "      <th></th>\n",
       "      <th></th>\n",
       "    </tr>\n",
       "  </thead>\n",
       "  <tbody>\n",
       "    <tr>\n",
       "      <th>0</th>\n",
       "      <td>0.599614</td>\n",
       "      <td>0.540032</td>\n",
       "      <td>0.562523</td>\n",
       "      <td>0.517633</td>\n",
       "      <td>0.560392</td>\n",
       "      <td>0.516607</td>\n",
       "      <td>0.475549</td>\n",
       "      <td>0.419135</td>\n",
       "    </tr>\n",
       "    <tr>\n",
       "      <th>5</th>\n",
       "      <td>0.638040</td>\n",
       "      <td>0.551924</td>\n",
       "      <td>0.626383</td>\n",
       "      <td>0.550716</td>\n",
       "      <td>0.626591</td>\n",
       "      <td>0.550332</td>\n",
       "      <td>0.575880</td>\n",
       "      <td>0.488410</td>\n",
       "    </tr>\n",
       "    <tr>\n",
       "      <th>10</th>\n",
       "      <td>0.628446</td>\n",
       "      <td>0.542283</td>\n",
       "      <td>0.620288</td>\n",
       "      <td>0.545829</td>\n",
       "      <td>0.621568</td>\n",
       "      <td>0.546743</td>\n",
       "      <td>0.567214</td>\n",
       "      <td>0.480328</td>\n",
       "    </tr>\n",
       "    <tr>\n",
       "      <th>15</th>\n",
       "      <td>0.630349</td>\n",
       "      <td>0.545147</td>\n",
       "      <td>0.622232</td>\n",
       "      <td>0.548243</td>\n",
       "      <td>0.623713</td>\n",
       "      <td>0.548595</td>\n",
       "      <td>0.572339</td>\n",
       "      <td>0.486204</td>\n",
       "    </tr>\n",
       "    <tr>\n",
       "      <th>19</th>\n",
       "      <td>0.629653</td>\n",
       "      <td>0.544358</td>\n",
       "      <td>0.621566</td>\n",
       "      <td>0.547034</td>\n",
       "      <td>0.623142</td>\n",
       "      <td>0.547605</td>\n",
       "      <td>0.572573</td>\n",
       "      <td>0.485882</td>\n",
       "    </tr>\n",
       "  </tbody>\n",
       "</table>\n",
       "</div>"
      ],
      "text/plain": [
       "       cosine_pearson  cosine_spearman  euclidean_pearson  euclidean_spearman  \\\n",
       "epoch                                                                           \n",
       "0            0.599614         0.540032           0.562523            0.517633   \n",
       "5            0.638040         0.551924           0.626383            0.550716   \n",
       "10           0.628446         0.542283           0.620288            0.545829   \n",
       "15           0.630349         0.545147           0.622232            0.548243   \n",
       "19           0.629653         0.544358           0.621566            0.547034   \n",
       "\n",
       "       manhattan_pearson  manhattan_spearman  dot_pearson  dot_spearman  \n",
       "epoch                                                                    \n",
       "0               0.560392            0.516607     0.475549      0.419135  \n",
       "5               0.626591            0.550332     0.575880      0.488410  \n",
       "10              0.621568            0.546743     0.567214      0.480328  \n",
       "15              0.623713            0.548595     0.572339      0.486204  \n",
       "19              0.623142            0.547605     0.572573      0.485882  "
      ]
     },
     "execution_count": 12,
     "metadata": {},
     "output_type": "execute_result"
    }
   ],
   "source": [
    "evaluation = pd.read_csv(os.path.join(model_path, 'eval/similarity_evaluation_sts-dev_results.csv'))\n",
    "evaluation.drop(columns=['steps']).groupby('epoch').mean().loc[[0,5,10,15,19]]"
   ]
  }
 ],
 "metadata": {
  "kernelspec": {
   "display_name": "Python 3",
   "language": "python",
   "name": "python3"
  },
  "language_info": {
   "codemirror_mode": {
    "name": "ipython",
    "version": 3
   },
   "file_extension": ".py",
   "mimetype": "text/x-python",
   "name": "python",
   "nbconvert_exporter": "python",
   "pygments_lexer": "ipython3",
   "version": "3.9.5"
  }
 },
 "nbformat": 4,
 "nbformat_minor": 5
}
