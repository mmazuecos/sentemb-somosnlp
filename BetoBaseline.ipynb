{
 "cells": [
  {
   "cell_type": "markdown",
   "id": "0a697e0e",
   "metadata": {},
   "source": [
    "Cambiar el archivo SentenceTransformer.py en sentence-transformer e instalar con pip install -e sentence-transforme"
   ]
  },
  {
   "cell_type": "code",
   "execution_count": 43,
   "id": "80461198",
   "metadata": {},
   "outputs": [],
   "source": [
    "from sentence_transformers import SentenceTransformer, models\n",
    "from torch import nn\n",
    "from sentence_transformers import LoggingHandler, SentenceTransformer, util, InputExample\n",
    "import torch\n",
    "from torch.utils.data import DataLoader\n",
    "from sentence_transformers import evaluation\n",
    "import pandas as pd\n",
    "from sentence_transformers import models, losses\n",
    "import matplotlib.pyplot as plt\n",
    "plt.style.use('classic')\n",
    "%matplotlib inline\n",
    "import numpy as np\n",
    "import pandas as pd\n",
    "import json\n",
    "from sklearn.model_selection import train_test_split\n",
    "import os\n",
    "from sentence_transformers.evaluation import EmbeddingSimilarityEvaluator"
   ]
  },
  {
   "cell_type": "code",
   "execution_count": 3,
   "id": "a13e6688",
   "metadata": {},
   "outputs": [
    {
     "data": {
      "text/plain": [
       "1"
      ]
     },
     "execution_count": 3,
     "metadata": {},
     "output_type": "execute_result"
    }
   ],
   "source": [
    "torch.cuda.device_count()"
   ]
  },
  {
   "cell_type": "markdown",
   "id": "37bd9adb",
   "metadata": {},
   "source": [
    "## Modelo\n",
    "\n",
    "Siguiendo el esquema de entrenamiento para NLI de [este paper](https://arxiv.org/pdf/1908.10084.pdf).\n",
    "\n",
    "Dimensiones a *ojímetro*."
   ]
  },
  {
   "cell_type": "code",
   "execution_count": 4,
   "id": "6d703881",
   "metadata": {},
   "outputs": [
    {
     "name": "stderr",
     "output_type": "stream",
     "text": [
      "Some weights of the model checkpoint at espejelomar/beto-base-cased were not used when initializing BertModel: ['cls.predictions.transform.LayerNorm.bias', 'cls.seq_relationship.bias', 'cls.predictions.transform.dense.bias', 'cls.predictions.transform.dense.weight', 'cls.predictions.transform.LayerNorm.weight', 'cls.predictions.decoder.weight', 'cls.predictions.bias', 'cls.seq_relationship.weight']\n",
      "- This IS expected if you are initializing BertModel from the checkpoint of a model trained on another task or with another architecture (e.g. initializing a BertForSequenceClassification model from a BertForPreTraining model).\n",
      "- This IS NOT expected if you are initializing BertModel from the checkpoint of a model that you expect to be exactly identical (initializing a BertForSequenceClassification model from a BertForSequenceClassification model).\n"
     ]
    }
   ],
   "source": [
    "word_embedding_model = models.Transformer('espejelomar/beto-base-cased')\n",
    "pooling_model = models.Pooling(word_embedding_model.get_word_embedding_dimension(),\n",
    "                               pooling_mode_mean_tokens=True,\n",
    "                               pooling_mode_cls_token=False,\n",
    "                               pooling_mode_max_tokens=False)\n",
    "dense_model = models.Dense(in_features=pooling_model.get_sentence_embedding_dimension(),\n",
    "                           out_features=512, #ojimetro\n",
    "                           activation_function=nn.Tanh())"
   ]
  },
  {
   "cell_type": "code",
   "execution_count": 14,
   "id": "3dff31f2",
   "metadata": {},
   "outputs": [
    {
     "name": "stdout",
     "output_type": "stream",
     "text": [
      "cuda:0\n"
     ]
    }
   ],
   "source": [
    "model = SentenceTransformer(modules=[word_embedding_model, pooling_model, dense_model], cache_folder='beto_sentemb')\n",
    "model.cuda()"
   ]
  },
  {
   "cell_type": "code",
   "execution_count": 58,
   "id": "9c418cee",
   "metadata": {},
   "outputs": [
    {
     "data": {
      "text/plain": [
       "SentenceTransformer(\n",
       "  (0): Transformer({'max_seq_length': 512, 'do_lower_case': False}) with Transformer model: BertModel \n",
       "  (1): Pooling({'word_embedding_dimension': 768, 'pooling_mode_cls_token': False, 'pooling_mode_mean_tokens': True, 'pooling_mode_max_tokens': False, 'pooling_mode_mean_sqrt_len_tokens': False})\n",
       "  (2): Dense({'in_features': 768, 'out_features': 512, 'bias': True, 'activation_function': 'torch.nn.modules.activation.Tanh'})\n",
       ")"
      ]
     },
     "execution_count": 58,
     "metadata": {},
     "output_type": "execute_result"
    }
   ],
   "source": [
    "model"
   ]
  },
  {
   "cell_type": "markdown",
   "id": "4e20bfe1",
   "metadata": {},
   "source": [
    "## Dataset"
   ]
  },
  {
   "cell_type": "code",
   "execution_count": 15,
   "id": "ec9bff42",
   "metadata": {},
   "outputs": [
    {
     "data": {
      "text/html": [
       "<div>\n",
       "<style scoped>\n",
       "    .dataframe tbody tr th:only-of-type {\n",
       "        vertical-align: middle;\n",
       "    }\n",
       "\n",
       "    .dataframe tbody tr th {\n",
       "        vertical-align: top;\n",
       "    }\n",
       "\n",
       "    .dataframe thead th {\n",
       "        text-align: right;\n",
       "    }\n",
       "</style>\n",
       "<table border=\"1\" class=\"dataframe\">\n",
       "  <thead>\n",
       "    <tr style=\"text-align: right;\">\n",
       "      <th></th>\n",
       "      <th>language</th>\n",
       "      <th>sentence1</th>\n",
       "      <th>sentence2</th>\n",
       "      <th>gold_label</th>\n",
       "      <th>promptID</th>\n",
       "      <th>pairID</th>\n",
       "      <th>genre</th>\n",
       "      <th>label1</th>\n",
       "    </tr>\n",
       "  </thead>\n",
       "  <tbody>\n",
       "    <tr>\n",
       "      <th>0</th>\n",
       "      <td>es</td>\n",
       "      <td>A ver si nos tenemos que poner todos en huelga...</td>\n",
       "      <td>La huelga es el método de lucha más eficaz par...</td>\n",
       "      <td>neutral</td>\n",
       "      <td>1</td>\n",
       "      <td>1</td>\n",
       "      <td>newspaper</td>\n",
       "      <td>neutral</td>\n",
       "    </tr>\n",
       "    <tr>\n",
       "      <th>1</th>\n",
       "      <td>es</td>\n",
       "      <td>A ver si nos tenemos que poner todos en huelga...</td>\n",
       "      <td>Tendremos que optar por hacer una huelga para ...</td>\n",
       "      <td>entailment</td>\n",
       "      <td>1</td>\n",
       "      <td>2</td>\n",
       "      <td>newspaper</td>\n",
       "      <td>entailment</td>\n",
       "    </tr>\n",
       "    <tr>\n",
       "      <th>2</th>\n",
       "      <td>es</td>\n",
       "      <td>A ver si nos tenemos que poner todos en huelga...</td>\n",
       "      <td>Queda descartada la huelga aunque no cobremos ...</td>\n",
       "      <td>contradiction</td>\n",
       "      <td>1</td>\n",
       "      <td>3</td>\n",
       "      <td>newspaper</td>\n",
       "      <td>contradiction</td>\n",
       "    </tr>\n",
       "    <tr>\n",
       "      <th>3</th>\n",
       "      <td>es</td>\n",
       "      <td>Profesor de FP y funcionario de carrera de la ...</td>\n",
       "      <td>Se dedica a la política y a la educación.</td>\n",
       "      <td>entailment</td>\n",
       "      <td>2</td>\n",
       "      <td>4</td>\n",
       "      <td>newspaper</td>\n",
       "      <td>entailment</td>\n",
       "    </tr>\n",
       "    <tr>\n",
       "      <th>4</th>\n",
       "      <td>es</td>\n",
       "      <td>Profesor de FP y funcionario de carrera de la ...</td>\n",
       "      <td>Gana mucho dinero.</td>\n",
       "      <td>neutral</td>\n",
       "      <td>2</td>\n",
       "      <td>5</td>\n",
       "      <td>newspaper</td>\n",
       "      <td>neutral</td>\n",
       "    </tr>\n",
       "    <tr>\n",
       "      <th>...</th>\n",
       "      <td>...</td>\n",
       "      <td>...</td>\n",
       "      <td>...</td>\n",
       "      <td>...</td>\n",
       "      <td>...</td>\n",
       "      <td>...</td>\n",
       "      <td>...</td>\n",
       "      <td>...</td>\n",
       "    </tr>\n",
       "    <tr>\n",
       "      <th>2485</th>\n",
       "      <td>es</td>\n",
       "      <td>Fue este verano cuando Cynthia decidió separar...</td>\n",
       "      <td>Cynthia ha mantenido una relación sentimental ...</td>\n",
       "      <td>entailment</td>\n",
       "      <td>829</td>\n",
       "      <td>2486</td>\n",
       "      <td>celebrity</td>\n",
       "      <td>entailment</td>\n",
       "    </tr>\n",
       "    <tr>\n",
       "      <th>2486</th>\n",
       "      <td>es</td>\n",
       "      <td>Fue este verano cuando Cynthia decidió separar...</td>\n",
       "      <td>Cynthia no tiene ningún abogado que la represe...</td>\n",
       "      <td>contradiction</td>\n",
       "      <td>829</td>\n",
       "      <td>2487</td>\n",
       "      <td>celebrity</td>\n",
       "      <td>contradiction</td>\n",
       "    </tr>\n",
       "    <tr>\n",
       "      <th>2487</th>\n",
       "      <td>es</td>\n",
       "      <td>Eva Mendes, que firmó a sus fans imágenes de l...</td>\n",
       "      <td>Al-Fayed y Eva Mendes son los propietarios de ...</td>\n",
       "      <td>neutral</td>\n",
       "      <td>830</td>\n",
       "      <td>2488</td>\n",
       "      <td>celebrity</td>\n",
       "      <td>neutral</td>\n",
       "    </tr>\n",
       "    <tr>\n",
       "      <th>2488</th>\n",
       "      <td>es</td>\n",
       "      <td>Eva Mendes, que firmó a sus fans imágenes de l...</td>\n",
       "      <td>Al-Fayed firmó a Eva Mendes imágenes de la cam...</td>\n",
       "      <td>contradiction</td>\n",
       "      <td>830</td>\n",
       "      <td>2489</td>\n",
       "      <td>celebrity</td>\n",
       "      <td>contradiction</td>\n",
       "    </tr>\n",
       "    <tr>\n",
       "      <th>2489</th>\n",
       "      <td>es</td>\n",
       "      <td>Eva Mendes, que firmó a sus fans imágenes de l...</td>\n",
       "      <td>Al-Fayed acompañó a Eva Mendes cuando estaba f...</td>\n",
       "      <td>entailment</td>\n",
       "      <td>830</td>\n",
       "      <td>2490</td>\n",
       "      <td>celebrity</td>\n",
       "      <td>entailment</td>\n",
       "    </tr>\n",
       "  </tbody>\n",
       "</table>\n",
       "<p>2490 rows × 8 columns</p>\n",
       "</div>"
      ],
      "text/plain": [
       "     language                                          sentence1  \\\n",
       "0          es  A ver si nos tenemos que poner todos en huelga...   \n",
       "1          es  A ver si nos tenemos que poner todos en huelga...   \n",
       "2          es  A ver si nos tenemos que poner todos en huelga...   \n",
       "3          es  Profesor de FP y funcionario de carrera de la ...   \n",
       "4          es  Profesor de FP y funcionario de carrera de la ...   \n",
       "...       ...                                                ...   \n",
       "2485       es  Fue este verano cuando Cynthia decidió separar...   \n",
       "2486       es  Fue este verano cuando Cynthia decidió separar...   \n",
       "2487       es  Eva Mendes, que firmó a sus fans imágenes de l...   \n",
       "2488       es  Eva Mendes, que firmó a sus fans imágenes de l...   \n",
       "2489       es  Eva Mendes, que firmó a sus fans imágenes de l...   \n",
       "\n",
       "                                              sentence2     gold_label  \\\n",
       "0     La huelga es el método de lucha más eficaz par...        neutral   \n",
       "1     Tendremos que optar por hacer una huelga para ...     entailment   \n",
       "2     Queda descartada la huelga aunque no cobremos ...  contradiction   \n",
       "3             Se dedica a la política y a la educación.     entailment   \n",
       "4                                    Gana mucho dinero.        neutral   \n",
       "...                                                 ...            ...   \n",
       "2485  Cynthia ha mantenido una relación sentimental ...     entailment   \n",
       "2486  Cynthia no tiene ningún abogado que la represe...  contradiction   \n",
       "2487  Al-Fayed y Eva Mendes son los propietarios de ...        neutral   \n",
       "2488  Al-Fayed firmó a Eva Mendes imágenes de la cam...  contradiction   \n",
       "2489  Al-Fayed acompañó a Eva Mendes cuando estaba f...     entailment   \n",
       "\n",
       "      promptID  pairID      genre         label1  \n",
       "0            1       1  newspaper        neutral  \n",
       "1            1       2  newspaper     entailment  \n",
       "2            1       3  newspaper  contradiction  \n",
       "3            2       4  newspaper     entailment  \n",
       "4            2       5  newspaper        neutral  \n",
       "...        ...     ...        ...            ...  \n",
       "2485       829    2486  celebrity     entailment  \n",
       "2486       829    2487  celebrity  contradiction  \n",
       "2487       830    2488  celebrity        neutral  \n",
       "2488       830    2489  celebrity  contradiction  \n",
       "2489       830    2490  celebrity     entailment  \n",
       "\n",
       "[2490 rows x 8 columns]"
      ]
     },
     "execution_count": 15,
     "metadata": {},
     "output_type": "execute_result"
    }
   ],
   "source": [
    "esxnli = pd.read_table('esxnli.tsv')\n",
    "label2int = {\"contradiction\": 0, \"entailment\": 1, \"neutral\": 2}\n",
    "es_only_data = esxnli[esxnli.language == 'es']\n",
    "es_only_data[['language', 'sentence1', 'sentence2', 'gold_label', 'promptID', 'pairID', 'genre', 'label1']]\n",
    "\n",
    "#train_examples = [InputExample(texts=['Mi primera oración', 'Mi segunda oración'], label=0.8),\n",
    "#   InputExample(texts=['Otro par', 'Oración cualquiera'], label=0.3)]\n",
    "#train_dataloader = DataLoader(train_examples, shuffle=True, batch_size=16)"
   ]
  },
  {
   "cell_type": "markdown",
   "id": "8e76b51e",
   "metadata": {},
   "source": [
    "Datos de entrenamiento en NLI"
   ]
  },
  {
   "cell_type": "code",
   "execution_count": 38,
   "id": "25f32a24",
   "metadata": {},
   "outputs": [],
   "source": [
    "train_examples = []\n",
    "for label, s1, s2 in es_only_data[['gold_label', 'sentence1', 'sentence2']].values:\n",
    "    input_example = InputExample(texts=[s1, s2], label=label2int[label])\n",
    "    train_examples.append(input_example)\n",
    "    \n",
    "train_dataloader = DataLoader(train_examples, shuffle=True, batch_size=64, drop_last=False)"
   ]
  },
  {
   "cell_type": "markdown",
   "id": "5f437930",
   "metadata": {},
   "source": [
    "Datos de testing en STS"
   ]
  },
  {
   "cell_type": "code",
   "execution_count": 39,
   "id": "65789b54",
   "metadata": {},
   "outputs": [],
   "source": [
    "sts_root = 'sts2015-es'\n",
    "sts_files = [('STS.gs.newswire.txt', 'STS.input.newswire.txt'),\n",
    "             ('STS.gs.wikipedia.txt', 'STS.input.wikipedia.txt')]\n",
    "\n",
    "dev_examples = []\n",
    "for gs_fname, sents_fname in sts_files:\n",
    "    gs = open(os.path.join(sts_root, gs_fname))\n",
    "    sents = open(os.path.join(sts_root, sents_fname))\n",
    "    for g, s in zip(gs, sents):\n",
    "        sent1, sent2 = s.split('\\t')\n",
    "        dp = InputExample(texts=[sent1, sent2], label=float(g))\n",
    "        dev_examples.append(dp)\n",
    "gs.close()\n",
    "sents.close()\n",
    "    \n",
    "evaluator = EmbeddingSimilarityEvaluator.from_input_examples(dev_examples, batch_size=32,\n",
    "                                                             name='sts-dev')"
   ]
  },
  {
   "cell_type": "markdown",
   "id": "2b4daefc",
   "metadata": {},
   "source": [
    "## Callback "
   ]
  },
  {
   "cell_type": "code",
   "execution_count": 48,
   "id": "368e518e",
   "metadata": {},
   "outputs": [],
   "source": [
    "class Printable:\n",
    "    def __init__(self, skip: int = 1) -> None:\n",
    "        \"\"\"\n",
    "        Params\n",
    "        ------\n",
    "        skip: int, optional\n",
    "          skip every skip epochs. Default: 1\n",
    "        \"\"\"\n",
    "        self.skip = skip\n",
    "  \n",
    "    def __call__(self, score, epoch, steps) -> None:\n",
    "        if epoch % self.skip == 0:\n",
    "            print('--- Evaluation report ---')\n",
    "            print('Epoch {}: {}'.format(epoch, score))\n",
    "            \n",
    "callback = Printable(skip=5)"
   ]
  },
  {
   "cell_type": "code",
   "execution_count": 44,
   "id": "f1efacbf",
   "metadata": {},
   "outputs": [],
   "source": [
    "train_loss = losses.SoftmaxLoss(model=model,\n",
    "                                sentence_embedding_dimension=model.get_sentence_embedding_dimension(),\n",
    "                                num_labels=len(label2int))"
   ]
  },
  {
   "cell_type": "code",
   "execution_count": null,
   "id": "821bf448",
   "metadata": {},
   "outputs": [
    {
     "name": "stderr",
     "output_type": "stream",
     "text": [
      "/users/mmazuecos/miniconda3/envs/rud/lib/python3.9/site-packages/transformers/optimization.py:306: FutureWarning: This implementation of AdamW is deprecated and will be removed in a future version. Use the PyTorch implementation torch.optim.AdamW instead, or set `no_deprecation_warning=True` to disable this warning\n",
      "  warnings.warn(\n"
     ]
    },
    {
     "data": {
      "application/vnd.jupyter.widget-view+json": {
       "model_id": "5e0e9ea9b0024160887a356ee90a1d16",
       "version_major": 2,
       "version_minor": 0
      },
      "text/plain": [
       "Epoch:   0%|          | 0/20 [00:00<?, ?it/s]"
      ]
     },
     "metadata": {},
     "output_type": "display_data"
    },
    {
     "data": {
      "application/vnd.jupyter.widget-view+json": {
       "model_id": "693ba43a834e4f87ab3851eabb420dff",
       "version_major": 2,
       "version_minor": 0
      },
      "text/plain": [
       "Iteration:   0%|          | 0/39 [00:00<?, ?it/s]"
      ]
     },
     "metadata": {},
     "output_type": "display_data"
    },
    {
     "name": "stdout",
     "output_type": "stream",
     "text": [
      "--- Evaluation report ---\n",
      "Epoch 0: 0.48126753827096574\n",
      "--- Evaluation report ---\n",
      "Epoch 0: 0.481348912138665\n",
      "--- Evaluation report ---\n",
      "Epoch 0: 0.4813931108335321\n",
      "--- Evaluation report ---\n",
      "Epoch 0: 0.48138801534302456\n",
      "--- Evaluation report ---\n",
      "Epoch 0: 0.48134119944706766\n",
      "--- Evaluation report ---\n",
      "Epoch 0: 0.48120827980071934\n",
      "--- Evaluation report ---\n",
      "Epoch 0: 0.4813595934353153\n"
     ]
    }
   ],
   "source": [
    "model.fit(train_objectives=[(train_dataloader, train_loss)], epochs=20,\n",
    "          warmup_steps=100, evaluator=evaluator, evaluation_steps=500,\n",
    "          output_path='beto_sts', show_progress_bar=True, callback=callback)"
   ]
  },
  {
   "cell_type": "markdown",
   "id": "d489a444",
   "metadata": {},
   "source": [
    "## Inspeccionar loss"
   ]
  },
  {
   "cell_type": "code",
   "execution_count": 50,
   "id": "b1bb3c4d",
   "metadata": {},
   "outputs": [],
   "source": [
    "with open('beto_sts/loss_digest.json') as fl:\n",
    "    historic_loss = json.load(fl)"
   ]
  },
  {
   "cell_type": "code",
   "execution_count": 57,
   "id": "0c352fdb",
   "metadata": {},
   "outputs": [
    {
     "data": {
      "text/plain": [
       "Text(0, 0.5, 'Loss0')"
      ]
     },
     "execution_count": 57,
     "metadata": {},
     "output_type": "execute_result"
    },
    {
     "data": {
      "image/png": "[encoded data removed]",
      "text/plain": [
       "<Figure size 432x288 with 1 Axes>"
      ]
     },
     "metadata": {
      "needs_background": "light"
     },
     "output_type": "display_data"
    }
   ],
   "source": [
    "plt.plot(range(len(historic_loss['0'])), historic_loss['0'])\n",
    "plt.xlabel('Step')\n",
    "plt.ylabel('Loss0')\n",
    "#plt.legend('Loss0', ncol=2, loc='upper left');"
   ]
  },
  {
   "cell_type": "code",
   "execution_count": 56,
   "id": "d4969424",
   "metadata": {},
   "outputs": [
    {
     "data": {
      "text/html": [
       "<div>\n",
       "<style scoped>\n",
       "    .dataframe tbody tr th:only-of-type {\n",
       "        vertical-align: middle;\n",
       "    }\n",
       "\n",
       "    .dataframe tbody tr th {\n",
       "        vertical-align: top;\n",
       "    }\n",
       "\n",
       "    .dataframe thead th {\n",
       "        text-align: right;\n",
       "    }\n",
       "</style>\n",
       "<table border=\"1\" class=\"dataframe\">\n",
       "  <thead>\n",
       "    <tr style=\"text-align: right;\">\n",
       "      <th></th>\n",
       "      <th>epoch</th>\n",
       "      <th>cosine_pearson</th>\n",
       "      <th>cosine_spearman</th>\n",
       "      <th>euclidean_pearson</th>\n",
       "      <th>euclidean_spearman</th>\n",
       "      <th>manhattan_pearson</th>\n",
       "      <th>manhattan_spearman</th>\n",
       "      <th>dot_pearson</th>\n",
       "      <th>dot_spearman</th>\n",
       "    </tr>\n",
       "  </thead>\n",
       "  <tbody>\n",
       "    <tr>\n",
       "      <th>0</th>\n",
       "      <td>0</td>\n",
       "      <td>0.559411</td>\n",
       "      <td>0.481268</td>\n",
       "      <td>0.555489</td>\n",
       "      <td>0.479902</td>\n",
       "      <td>0.555432</td>\n",
       "      <td>0.479745</td>\n",
       "      <td>0.259716</td>\n",
       "      <td>0.194580</td>\n",
       "    </tr>\n",
       "    <tr>\n",
       "      <th>1</th>\n",
       "      <td>0</td>\n",
       "      <td>0.559433</td>\n",
       "      <td>0.481349</td>\n",
       "      <td>0.555509</td>\n",
       "      <td>0.479940</td>\n",
       "      <td>0.555458</td>\n",
       "      <td>0.479721</td>\n",
       "      <td>0.259676</td>\n",
       "      <td>0.194491</td>\n",
       "    </tr>\n",
       "    <tr>\n",
       "      <th>2</th>\n",
       "      <td>0</td>\n",
       "      <td>0.559396</td>\n",
       "      <td>0.481393</td>\n",
       "      <td>0.555491</td>\n",
       "      <td>0.479970</td>\n",
       "      <td>0.555435</td>\n",
       "      <td>0.479846</td>\n",
       "      <td>0.259665</td>\n",
       "      <td>0.194420</td>\n",
       "    </tr>\n",
       "    <tr>\n",
       "      <th>3</th>\n",
       "      <td>0</td>\n",
       "      <td>0.559327</td>\n",
       "      <td>0.481388</td>\n",
       "      <td>0.555428</td>\n",
       "      <td>0.479953</td>\n",
       "      <td>0.555380</td>\n",
       "      <td>0.479787</td>\n",
       "      <td>0.259657</td>\n",
       "      <td>0.194571</td>\n",
       "    </tr>\n",
       "    <tr>\n",
       "      <th>4</th>\n",
       "      <td>0</td>\n",
       "      <td>0.559362</td>\n",
       "      <td>0.481341</td>\n",
       "      <td>0.555434</td>\n",
       "      <td>0.479913</td>\n",
       "      <td>0.555381</td>\n",
       "      <td>0.479826</td>\n",
       "      <td>0.260232</td>\n",
       "      <td>0.195037</td>\n",
       "    </tr>\n",
       "    <tr>\n",
       "      <th>...</th>\n",
       "      <td>...</td>\n",
       "      <td>...</td>\n",
       "      <td>...</td>\n",
       "      <td>...</td>\n",
       "      <td>...</td>\n",
       "      <td>...</td>\n",
       "      <td>...</td>\n",
       "      <td>...</td>\n",
       "      <td>...</td>\n",
       "    </tr>\n",
       "    <tr>\n",
       "      <th>775</th>\n",
       "      <td>19</td>\n",
       "      <td>0.205360</td>\n",
       "      <td>0.229123</td>\n",
       "      <td>0.224827</td>\n",
       "      <td>0.227895</td>\n",
       "      <td>0.221057</td>\n",
       "      <td>0.224640</td>\n",
       "      <td>0.201492</td>\n",
       "      <td>0.215998</td>\n",
       "    </tr>\n",
       "    <tr>\n",
       "      <th>776</th>\n",
       "      <td>19</td>\n",
       "      <td>0.205316</td>\n",
       "      <td>0.229191</td>\n",
       "      <td>0.224785</td>\n",
       "      <td>0.227693</td>\n",
       "      <td>0.221015</td>\n",
       "      <td>0.224576</td>\n",
       "      <td>0.201440</td>\n",
       "      <td>0.215904</td>\n",
       "    </tr>\n",
       "    <tr>\n",
       "      <th>777</th>\n",
       "      <td>19</td>\n",
       "      <td>0.205292</td>\n",
       "      <td>0.229081</td>\n",
       "      <td>0.224757</td>\n",
       "      <td>0.227801</td>\n",
       "      <td>0.220986</td>\n",
       "      <td>0.224586</td>\n",
       "      <td>0.201418</td>\n",
       "      <td>0.215816</td>\n",
       "    </tr>\n",
       "    <tr>\n",
       "      <th>778</th>\n",
       "      <td>19</td>\n",
       "      <td>0.205281</td>\n",
       "      <td>0.229096</td>\n",
       "      <td>0.224748</td>\n",
       "      <td>0.227759</td>\n",
       "      <td>0.220980</td>\n",
       "      <td>0.224733</td>\n",
       "      <td>0.201405</td>\n",
       "      <td>0.215859</td>\n",
       "    </tr>\n",
       "    <tr>\n",
       "      <th>779</th>\n",
       "      <td>19</td>\n",
       "      <td>0.205281</td>\n",
       "      <td>0.229079</td>\n",
       "      <td>0.224731</td>\n",
       "      <td>0.227731</td>\n",
       "      <td>0.220961</td>\n",
       "      <td>0.224463</td>\n",
       "      <td>0.201411</td>\n",
       "      <td>0.215966</td>\n",
       "    </tr>\n",
       "  </tbody>\n",
       "</table>\n",
       "<p>780 rows × 9 columns</p>\n",
       "</div>"
      ],
      "text/plain": [
       "     epoch  cosine_pearson  cosine_spearman  euclidean_pearson  \\\n",
       "0        0        0.559411         0.481268           0.555489   \n",
       "1        0        0.559433         0.481349           0.555509   \n",
       "2        0        0.559396         0.481393           0.555491   \n",
       "3        0        0.559327         0.481388           0.555428   \n",
       "4        0        0.559362         0.481341           0.555434   \n",
       "..     ...             ...              ...                ...   \n",
       "775     19        0.205360         0.229123           0.224827   \n",
       "776     19        0.205316         0.229191           0.224785   \n",
       "777     19        0.205292         0.229081           0.224757   \n",
       "778     19        0.205281         0.229096           0.224748   \n",
       "779     19        0.205281         0.229079           0.224731   \n",
       "\n",
       "     euclidean_spearman  manhattan_pearson  manhattan_spearman  dot_pearson  \\\n",
       "0              0.479902           0.555432            0.479745     0.259716   \n",
       "1              0.479940           0.555458            0.479721     0.259676   \n",
       "2              0.479970           0.555435            0.479846     0.259665   \n",
       "3              0.479953           0.555380            0.479787     0.259657   \n",
       "4              0.479913           0.555381            0.479826     0.260232   \n",
       "..                  ...                ...                 ...          ...   \n",
       "775            0.227895           0.221057            0.224640     0.201492   \n",
       "776            0.227693           0.221015            0.224576     0.201440   \n",
       "777            0.227801           0.220986            0.224586     0.201418   \n",
       "778            0.227759           0.220980            0.224733     0.201405   \n",
       "779            0.227731           0.220961            0.224463     0.201411   \n",
       "\n",
       "     dot_spearman  \n",
       "0        0.194580  \n",
       "1        0.194491  \n",
       "2        0.194420  \n",
       "3        0.194571  \n",
       "4        0.195037  \n",
       "..            ...  \n",
       "775      0.215998  \n",
       "776      0.215904  \n",
       "777      0.215816  \n",
       "778      0.215859  \n",
       "779      0.215966  \n",
       "\n",
       "[780 rows x 9 columns]"
      ]
     },
     "execution_count": 56,
     "metadata": {},
     "output_type": "execute_result"
    }
   ],
   "source": [
    "evaluation = pd.read_csv('beto_sts/eval/similarity_evaluation_sts-dev_results.csv')\n",
    "evaluation.drop(columns=['steps'])"
   ]
  },
  {
   "cell_type": "markdown",
   "id": "b412d2d1",
   "metadata": {},
   "source": [
    "Si se quiere evaluar con el mismo ESXNLI usar este código\n",
    "```\n",
    "entailment_samples = []\n",
    "contradiction_samples = []\n",
    "neutral_samples = []\n",
    "\n",
    "dataset = {'entailment': entailment_samples,\n",
    "           'contradiction': contradiction_samples,\n",
    "           'neutral': neutral_samples}\n",
    "\n",
    "for k in dataset:\n",
    "    subsample = es_only_data[es_only_data.gold_label == k]\n",
    "    for label, s1, s2 in subsample[['gold_label', 'sentence1', 'sentence2']].values:\n",
    "        input_example = InputExample(texts=[s1, s2], label=label2int[label])\n",
    "        dataset[k].append(input_example)\n",
    "\n",
    "train_examples = []\n",
    "test_examples = []\n",
    "for k in dataset:\n",
    "    train_subsample, test_subsample = train_test_split(dataset[k], test_size=0.2, random_state=42)\n",
    "    train_examples += train_subsample\n",
    "    test_examples += test_subsample\n",
    "    \n",
    "print('Train examples {}, Test examples {}'.format(len(train_examples), len(test_examples)))\n",
    "train_dataloader = DataLoader(train_examples, shuffle=True, batch_size=64, drop_last=False)\n",
    "```\n",
    "\n"
   ]
  }
 ],
 "metadata": {
  "kernelspec": {
   "display_name": "Python 3",
   "language": "python",
   "name": "python3"
  },
  "language_info": {
   "codemirror_mode": {
    "name": "ipython",
    "version": 3
   },
   "file_extension": ".py",
   "mimetype": "text/x-python",
   "name": "python",
   "nbconvert_exporter": "python",
   "pygments_lexer": "ipython3",
   "version": "3.9.5"
  }
 },
 "nbformat": 4,
 "nbformat_minor": 5
}
