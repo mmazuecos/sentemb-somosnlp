{
 "cells": [
  {
   "cell_type": "markdown",
   "id": "0a697e0e",
   "metadata": {},
   "source": [
    "Cambiar el archivo SentenceTransformer.py en sentence-transformer e instalar con pip install -e sentence-transforme"
   ]
  },
  {
   "cell_type": "code",
   "execution_count": 17,
   "id": "80461198",
   "metadata": {},
   "outputs": [],
   "source": [
    "from sentence_transformers import SentenceTransformer, models\n",
    "from torch import nn\n",
    "from sentence_transformers import LoggingHandler, SentenceTransformer, util, InputExample\n",
    "import torch\n",
    "from torch.utils.data import DataLoader\n",
    "from sentence_transformers import evaluation\n",
    "import pandas as pd\n",
    "from sentence_transformers import models, losses\n",
    "import matplotlib.pyplot as plt\n",
    "plt.style.use('classic')\n",
    "%matplotlib inline\n",
    "import numpy as np\n",
    "import pandas as pd\n",
    "import json\n",
    "from sklearn.model_selection import train_test_split\n",
    "import os\n",
    "from sentence_transformers.evaluation import EmbeddingSimilarityEvaluator"
   ]
  },
  {
   "cell_type": "code",
   "execution_count": 2,
   "id": "a13e6688",
   "metadata": {},
   "outputs": [
    {
     "data": {
      "text/plain": [
       "1"
      ]
     },
     "execution_count": 2,
     "metadata": {},
     "output_type": "execute_result"
    }
   ],
   "source": [
    "torch.cuda.device_count()"
   ]
  },
  {
   "cell_type": "markdown",
   "id": "37bd9adb",
   "metadata": {},
   "source": [
    "## Modelo\n",
    "\n",
    "Siguiendo el esquema de entrenamiento para NLI de [este paper](https://arxiv.org/pdf/1908.10084.pdf).\n",
    "\n",
    "Dimensiones a *ojímetro*."
   ]
  },
  {
   "cell_type": "code",
   "execution_count": 3,
   "id": "6d703881",
   "metadata": {},
   "outputs": [
    {
     "name": "stderr",
     "output_type": "stream",
     "text": [
      "Some weights of the model checkpoint at bertin-project/bertin-roberta-base-spanish were not used when initializing RobertaModel: ['lm_head.layer_norm.bias', 'lm_head.dense.bias', 'lm_head.bias', 'lm_head.dense.weight', 'lm_head.layer_norm.weight']\n",
      "- This IS expected if you are initializing RobertaModel from the checkpoint of a model trained on another task or with another architecture (e.g. initializing a BertForSequenceClassification model from a BertForPreTraining model).\n",
      "- This IS NOT expected if you are initializing RobertaModel from the checkpoint of a model that you expect to be exactly identical (initializing a BertForSequenceClassification model from a BertForSequenceClassification model).\n",
      "Some weights of RobertaModel were not initialized from the model checkpoint at bertin-project/bertin-roberta-base-spanish and are newly initialized: ['roberta.pooler.dense.weight', 'roberta.pooler.dense.bias']\n",
      "You should probably TRAIN this model on a down-stream task to be able to use it for predictions and inference.\n"
     ]
    }
   ],
   "source": [
    "word_embedding_model = models.Transformer('bertin-project/bertin-roberta-base-spanish')\n",
    "pooling_model = models.Pooling(word_embedding_model.get_word_embedding_dimension(),\n",
    "                               pooling_mode_mean_tokens=True,\n",
    "                               pooling_mode_cls_token=False,\n",
    "                               pooling_mode_max_tokens=False)\n",
    "dense_model = models.Dense(in_features=pooling_model.get_sentence_embedding_dimension(),\n",
    "                           out_features=512, #ojimetro\n",
    "                           activation_function=nn.Tanh())"
   ]
  },
  {
   "cell_type": "code",
   "execution_count": 4,
   "id": "3dff31f2",
   "metadata": {},
   "outputs": [
    {
     "data": {
      "text/plain": [
       "SentenceTransformer(\n",
       "  (0): Transformer({'max_seq_length': 514, 'do_lower_case': False}) with Transformer model: RobertaModel \n",
       "  (1): Pooling({'word_embedding_dimension': 768, 'pooling_mode_cls_token': False, 'pooling_mode_mean_tokens': True, 'pooling_mode_max_tokens': False, 'pooling_mode_mean_sqrt_len_tokens': False})\n",
       "  (2): Dense({'in_features': 768, 'out_features': 512, 'bias': True, 'activation_function': 'torch.nn.modules.activation.Tanh'})\n",
       ")"
      ]
     },
     "execution_count": 4,
     "metadata": {},
     "output_type": "execute_result"
    }
   ],
   "source": [
    "model = SentenceTransformer(modules=[word_embedding_model, pooling_model, dense_model], cache_folder='beto_sentemb')\n",
    "model.cuda()"
   ]
  },
  {
   "cell_type": "code",
   "execution_count": 5,
   "id": "9c418cee",
   "metadata": {},
   "outputs": [
    {
     "data": {
      "text/plain": [
       "SentenceTransformer(\n",
       "  (0): Transformer({'max_seq_length': 514, 'do_lower_case': False}) with Transformer model: RobertaModel \n",
       "  (1): Pooling({'word_embedding_dimension': 768, 'pooling_mode_cls_token': False, 'pooling_mode_mean_tokens': True, 'pooling_mode_max_tokens': False, 'pooling_mode_mean_sqrt_len_tokens': False})\n",
       "  (2): Dense({'in_features': 768, 'out_features': 512, 'bias': True, 'activation_function': 'torch.nn.modules.activation.Tanh'})\n",
       ")"
      ]
     },
     "execution_count": 5,
     "metadata": {},
     "output_type": "execute_result"
    }
   ],
   "source": [
    "model"
   ]
  },
  {
   "cell_type": "markdown",
   "id": "4e20bfe1",
   "metadata": {},
   "source": [
    "## Dataset"
   ]
  },
  {
   "cell_type": "code",
   "execution_count": 6,
   "id": "ec9bff42",
   "metadata": {},
   "outputs": [
    {
     "data": {
      "text/html": [
       "<div>\n",
       "<style scoped>\n",
       "    .dataframe tbody tr th:only-of-type {\n",
       "        vertical-align: middle;\n",
       "    }\n",
       "\n",
       "    .dataframe tbody tr th {\n",
       "        vertical-align: top;\n",
       "    }\n",
       "\n",
       "    .dataframe thead th {\n",
       "        text-align: right;\n",
       "    }\n",
       "</style>\n",
       "<table border=\"1\" class=\"dataframe\">\n",
       "  <thead>\n",
       "    <tr style=\"text-align: right;\">\n",
       "      <th></th>\n",
       "      <th>language</th>\n",
       "      <th>sentence1</th>\n",
       "      <th>sentence2</th>\n",
       "      <th>gold_label</th>\n",
       "      <th>promptID</th>\n",
       "      <th>pairID</th>\n",
       "      <th>genre</th>\n",
       "      <th>label1</th>\n",
       "    </tr>\n",
       "  </thead>\n",
       "  <tbody>\n",
       "    <tr>\n",
       "      <th>0</th>\n",
       "      <td>es</td>\n",
       "      <td>A ver si nos tenemos que poner todos en huelga...</td>\n",
       "      <td>La huelga es el método de lucha más eficaz par...</td>\n",
       "      <td>neutral</td>\n",
       "      <td>1</td>\n",
       "      <td>1</td>\n",
       "      <td>newspaper</td>\n",
       "      <td>neutral</td>\n",
       "    </tr>\n",
       "    <tr>\n",
       "      <th>1</th>\n",
       "      <td>es</td>\n",
       "      <td>A ver si nos tenemos que poner todos en huelga...</td>\n",
       "      <td>Tendremos que optar por hacer una huelga para ...</td>\n",
       "      <td>entailment</td>\n",
       "      <td>1</td>\n",
       "      <td>2</td>\n",
       "      <td>newspaper</td>\n",
       "      <td>entailment</td>\n",
       "    </tr>\n",
       "    <tr>\n",
       "      <th>2</th>\n",
       "      <td>es</td>\n",
       "      <td>A ver si nos tenemos que poner todos en huelga...</td>\n",
       "      <td>Queda descartada la huelga aunque no cobremos ...</td>\n",
       "      <td>contradiction</td>\n",
       "      <td>1</td>\n",
       "      <td>3</td>\n",
       "      <td>newspaper</td>\n",
       "      <td>contradiction</td>\n",
       "    </tr>\n",
       "    <tr>\n",
       "      <th>3</th>\n",
       "      <td>es</td>\n",
       "      <td>Profesor de FP y funcionario de carrera de la ...</td>\n",
       "      <td>Se dedica a la política y a la educación.</td>\n",
       "      <td>entailment</td>\n",
       "      <td>2</td>\n",
       "      <td>4</td>\n",
       "      <td>newspaper</td>\n",
       "      <td>entailment</td>\n",
       "    </tr>\n",
       "    <tr>\n",
       "      <th>4</th>\n",
       "      <td>es</td>\n",
       "      <td>Profesor de FP y funcionario de carrera de la ...</td>\n",
       "      <td>Gana mucho dinero.</td>\n",
       "      <td>neutral</td>\n",
       "      <td>2</td>\n",
       "      <td>5</td>\n",
       "      <td>newspaper</td>\n",
       "      <td>neutral</td>\n",
       "    </tr>\n",
       "    <tr>\n",
       "      <th>...</th>\n",
       "      <td>...</td>\n",
       "      <td>...</td>\n",
       "      <td>...</td>\n",
       "      <td>...</td>\n",
       "      <td>...</td>\n",
       "      <td>...</td>\n",
       "      <td>...</td>\n",
       "      <td>...</td>\n",
       "    </tr>\n",
       "    <tr>\n",
       "      <th>2485</th>\n",
       "      <td>es</td>\n",
       "      <td>Fue este verano cuando Cynthia decidió separar...</td>\n",
       "      <td>Cynthia ha mantenido una relación sentimental ...</td>\n",
       "      <td>entailment</td>\n",
       "      <td>829</td>\n",
       "      <td>2486</td>\n",
       "      <td>celebrity</td>\n",
       "      <td>entailment</td>\n",
       "    </tr>\n",
       "    <tr>\n",
       "      <th>2486</th>\n",
       "      <td>es</td>\n",
       "      <td>Fue este verano cuando Cynthia decidió separar...</td>\n",
       "      <td>Cynthia no tiene ningún abogado que la represe...</td>\n",
       "      <td>contradiction</td>\n",
       "      <td>829</td>\n",
       "      <td>2487</td>\n",
       "      <td>celebrity</td>\n",
       "      <td>contradiction</td>\n",
       "    </tr>\n",
       "    <tr>\n",
       "      <th>2487</th>\n",
       "      <td>es</td>\n",
       "      <td>Eva Mendes, que firmó a sus fans imágenes de l...</td>\n",
       "      <td>Al-Fayed y Eva Mendes son los propietarios de ...</td>\n",
       "      <td>neutral</td>\n",
       "      <td>830</td>\n",
       "      <td>2488</td>\n",
       "      <td>celebrity</td>\n",
       "      <td>neutral</td>\n",
       "    </tr>\n",
       "    <tr>\n",
       "      <th>2488</th>\n",
       "      <td>es</td>\n",
       "      <td>Eva Mendes, que firmó a sus fans imágenes de l...</td>\n",
       "      <td>Al-Fayed firmó a Eva Mendes imágenes de la cam...</td>\n",
       "      <td>contradiction</td>\n",
       "      <td>830</td>\n",
       "      <td>2489</td>\n",
       "      <td>celebrity</td>\n",
       "      <td>contradiction</td>\n",
       "    </tr>\n",
       "    <tr>\n",
       "      <th>2489</th>\n",
       "      <td>es</td>\n",
       "      <td>Eva Mendes, que firmó a sus fans imágenes de l...</td>\n",
       "      <td>Al-Fayed acompañó a Eva Mendes cuando estaba f...</td>\n",
       "      <td>entailment</td>\n",
       "      <td>830</td>\n",
       "      <td>2490</td>\n",
       "      <td>celebrity</td>\n",
       "      <td>entailment</td>\n",
       "    </tr>\n",
       "  </tbody>\n",
       "</table>\n",
       "<p>2490 rows × 8 columns</p>\n",
       "</div>"
      ],
      "text/plain": [
       "     language                                          sentence1  \\\n",
       "0          es  A ver si nos tenemos que poner todos en huelga...   \n",
       "1          es  A ver si nos tenemos que poner todos en huelga...   \n",
       "2          es  A ver si nos tenemos que poner todos en huelga...   \n",
       "3          es  Profesor de FP y funcionario de carrera de la ...   \n",
       "4          es  Profesor de FP y funcionario de carrera de la ...   \n",
       "...       ...                                                ...   \n",
       "2485       es  Fue este verano cuando Cynthia decidió separar...   \n",
       "2486       es  Fue este verano cuando Cynthia decidió separar...   \n",
       "2487       es  Eva Mendes, que firmó a sus fans imágenes de l...   \n",
       "2488       es  Eva Mendes, que firmó a sus fans imágenes de l...   \n",
       "2489       es  Eva Mendes, que firmó a sus fans imágenes de l...   \n",
       "\n",
       "                                              sentence2     gold_label  \\\n",
       "0     La huelga es el método de lucha más eficaz par...        neutral   \n",
       "1     Tendremos que optar por hacer una huelga para ...     entailment   \n",
       "2     Queda descartada la huelga aunque no cobremos ...  contradiction   \n",
       "3             Se dedica a la política y a la educación.     entailment   \n",
       "4                                    Gana mucho dinero.        neutral   \n",
       "...                                                 ...            ...   \n",
       "2485  Cynthia ha mantenido una relación sentimental ...     entailment   \n",
       "2486  Cynthia no tiene ningún abogado que la represe...  contradiction   \n",
       "2487  Al-Fayed y Eva Mendes son los propietarios de ...        neutral   \n",
       "2488  Al-Fayed firmó a Eva Mendes imágenes de la cam...  contradiction   \n",
       "2489  Al-Fayed acompañó a Eva Mendes cuando estaba f...     entailment   \n",
       "\n",
       "      promptID  pairID      genre         label1  \n",
       "0            1       1  newspaper        neutral  \n",
       "1            1       2  newspaper     entailment  \n",
       "2            1       3  newspaper  contradiction  \n",
       "3            2       4  newspaper     entailment  \n",
       "4            2       5  newspaper        neutral  \n",
       "...        ...     ...        ...            ...  \n",
       "2485       829    2486  celebrity     entailment  \n",
       "2486       829    2487  celebrity  contradiction  \n",
       "2487       830    2488  celebrity        neutral  \n",
       "2488       830    2489  celebrity  contradiction  \n",
       "2489       830    2490  celebrity     entailment  \n",
       "\n",
       "[2490 rows x 8 columns]"
      ]
     },
     "execution_count": 6,
     "metadata": {},
     "output_type": "execute_result"
    }
   ],
   "source": [
    "esxnli = pd.read_table('esxnli.tsv')\n",
    "label2int = {\"contradiction\": 0, \"entailment\": 1, \"neutral\": 2}\n",
    "es_only_data = esxnli[esxnli.language == 'es']\n",
    "es_only_data[['language', 'sentence1', 'sentence2', 'gold_label', 'promptID', 'pairID', 'genre', 'label1']]\n",
    "\n",
    "#train_examples = [InputExample(texts=['Mi primera oración', 'Mi segunda oración'], label=0.8),\n",
    "#   InputExample(texts=['Otro par', 'Oración cualquiera'], label=0.3)]\n",
    "#train_dataloader = DataLoader(train_examples, shuffle=True, batch_size=16)"
   ]
  },
  {
   "cell_type": "markdown",
   "id": "8e76b51e",
   "metadata": {},
   "source": [
    "Datos de entrenamiento en NLI"
   ]
  },
  {
   "cell_type": "code",
   "execution_count": 7,
   "id": "25f32a24",
   "metadata": {},
   "outputs": [],
   "source": [
    "train_examples = []\n",
    "for label, s1, s2 in es_only_data[['gold_label', 'sentence1', 'sentence2']].values:\n",
    "    input_example = InputExample(texts=[s1, s2], label=label2int[label])\n",
    "    train_examples.append(input_example)\n",
    "    \n",
    "train_dataloader = DataLoader(train_examples, shuffle=True, batch_size=64, drop_last=False)"
   ]
  },
  {
   "cell_type": "markdown",
   "id": "5f437930",
   "metadata": {},
   "source": [
    "Datos de testing en STS"
   ]
  },
  {
   "cell_type": "code",
   "execution_count": 11,
   "id": "65789b54",
   "metadata": {},
   "outputs": [],
   "source": [
    "sts_root = 'sts2015-es'\n",
    "sts_files = [('STS.gs.newswire.txt', 'STS.input.newswire.txt'),\n",
    "             ('STS.gs.wikipedia.txt', 'STS.input.wikipedia.txt')]\n",
    "\n",
    "dev_examples = []\n",
    "for gs_fname, sents_fname in sts_files:\n",
    "    gs = open(os.path.join(sts_root, gs_fname))\n",
    "    sents = open(os.path.join(sts_root, sents_fname))\n",
    "    for g, s in zip(gs, sents):\n",
    "        sent1, sent2 = s.split('\\t')\n",
    "        dp = InputExample(texts=[sent1, sent2], label=float(g))\n",
    "        dev_examples.append(dp)\n",
    "gs.close()\n",
    "sents.close()\n",
    "    \n",
    "evaluator = EmbeddingSimilarityEvaluator.from_input_examples(dev_examples, batch_size=32,\n",
    "                                                             name='Bertin-STS')"
   ]
  },
  {
   "cell_type": "markdown",
   "id": "2b4daefc",
   "metadata": {},
   "source": [
    "## Callback "
   ]
  },
  {
   "cell_type": "code",
   "execution_count": 12,
   "id": "368e518e",
   "metadata": {},
   "outputs": [],
   "source": [
    "class Printable:\n",
    "    def __init__(self, skip: int = 1) -> None:\n",
    "        \"\"\"\n",
    "        Params\n",
    "        ------\n",
    "        skip: int, optional\n",
    "          skip every skip epochs. Default: 1\n",
    "        \"\"\"\n",
    "        self.skip = skip\n",
    "  \n",
    "    def __call__(self, score, epoch, steps) -> None:\n",
    "        if epoch % self.skip == 0:\n",
    "            print('--- Evaluation report ---')\n",
    "            print('Epoch {}: {}'.format(epoch, score))\n",
    "            \n",
    "callback = Printable(skip=5)"
   ]
  },
  {
   "cell_type": "code",
   "execution_count": 13,
   "id": "f1efacbf",
   "metadata": {},
   "outputs": [],
   "source": [
    "train_loss = losses.SoftmaxLoss(model=model,\n",
    "                                sentence_embedding_dimension=model.get_sentence_embedding_dimension(),\n",
    "                                num_labels=len(label2int))"
   ]
  },
  {
   "cell_type": "code",
   "execution_count": null,
   "id": "821bf448",
   "metadata": {},
   "outputs": [
    {
     "name": "stderr",
     "output_type": "stream",
     "text": [
      "/users/mmazuecos/miniconda3/envs/rud/lib/python3.9/site-packages/transformers/optimization.py:306: FutureWarning: This implementation of AdamW is deprecated and will be removed in a future version. Use the PyTorch implementation torch.optim.AdamW instead, or set `no_deprecation_warning=True` to disable this warning\n",
      "  warnings.warn(\n"
     ]
    },
    {
     "data": {
      "application/vnd.jupyter.widget-view+json": {
       "model_id": "8054c90442224d059359667268795988",
       "version_major": 2,
       "version_minor": 0
      },
      "text/plain": [
       "Epoch:   0%|          | 0/20 [00:00<?, ?it/s]"
      ]
     },
     "metadata": {},
     "output_type": "display_data"
    },
    {
     "data": {
      "application/vnd.jupyter.widget-view+json": {
       "model_id": "9cd2d56e42744a0ea2ca03c761aa0f4d",
       "version_major": 2,
       "version_minor": 0
      },
      "text/plain": [
       "Iteration:   0%|          | 0/39 [00:00<?, ?it/s]"
      ]
     },
     "metadata": {},
     "output_type": "display_data"
    },
    {
     "name": "stdout",
     "output_type": "stream",
     "text": [
      "--- Evaluation report ---\n",
      "Epoch 0: 0.5394598105761311\n",
      "--- Evaluation report ---\n",
      "Epoch 0: 0.5395488545238719\n",
      "--- Evaluation report ---\n",
      "Epoch 0: 0.5394586174525692\n",
      "--- Evaluation report ---\n",
      "Epoch 0: 0.53944691347858\n",
      "--- Evaluation report ---\n",
      "Epoch 0: 0.539539068069893\n",
      "--- Evaluation report ---\n",
      "Epoch 0: 0.5394696964570735\n",
      "--- Evaluation report ---\n",
      "Epoch 0: 0.5394823974414792\n",
      "--- Evaluation report ---\n",
      "Epoch 0: 0.5395127199245654\n",
      "--- Evaluation report ---\n",
      "Epoch 0: 0.5394798664150545\n",
      "--- Evaluation report ---\n",
      "Epoch 0: 0.5395936108612992\n",
      "--- Evaluation report ---\n",
      "Epoch 0: 0.5397677074743886\n",
      "--- Evaluation report ---\n",
      "Epoch 0: 0.5398482007032682\n",
      "--- Evaluation report ---\n",
      "Epoch 0: 0.5399259241810219\n",
      "--- Evaluation report ---\n",
      "Epoch 0: 0.5401177756090222\n",
      "--- Evaluation report ---\n",
      "Epoch 0: 0.5403504204997616\n",
      "--- Evaluation report ---\n",
      "Epoch 0: 0.5405859203647386\n",
      "--- Evaluation report ---\n",
      "Epoch 0: 0.540707505337248\n",
      "--- Evaluation report ---\n",
      "Epoch 0: 0.5407875582467178\n",
      "--- Evaluation report ---\n",
      "Epoch 0: 0.5410773730787553\n",
      "--- Evaluation report ---\n",
      "Epoch 0: 0.5413756261242678\n"
     ]
    }
   ],
   "source": [
    "model.fit(train_objectives=[(train_dataloader, train_loss)], epochs=20,\n",
    "          warmup_steps=100, evaluator=evaluator, evaluation_steps=500,\n",
    "          output_path='berntin_model', show_progress_bar=True, callback=callback)"
   ]
  },
  {
   "cell_type": "markdown",
   "id": "d489a444",
   "metadata": {},
   "source": [
    "## Inspeccionar loss"
   ]
  },
  {
   "cell_type": "code",
   "execution_count": 18,
   "id": "b1bb3c4d",
   "metadata": {},
   "outputs": [],
   "source": [
    "with open('berntin_model/loss_digest.json') as fl:\n",
    "    historic_loss = json.load(fl)"
   ]
  },
  {
   "cell_type": "code",
   "execution_count": 19,
   "id": "0c352fdb",
   "metadata": {},
   "outputs": [
    {
     "data": {
      "text/plain": [
       "Text(0, 0.5, 'Loss0')"
      ]
     },
     "execution_count": 19,
     "metadata": {},
     "output_type": "execute_result"
    },
    {
     "data": {
      "image/png": "[encoded data removed]",
      "text/plain": [
       "<Figure size 432x288 with 1 Axes>"
      ]
     },
     "metadata": {
      "needs_background": "light"
     },
     "output_type": "display_data"
    }
   ],
   "source": [
    "plt.plot(range(len(historic_loss['0'])), historic_loss['0'])\n",
    "plt.xlabel('Step')\n",
    "plt.ylabel('Loss0')\n",
    "#plt.legend('Loss0', ncol=2, loc='upper left');"
   ]
  },
  {
   "cell_type": "code",
   "execution_count": 21,
   "id": "d4969424",
   "metadata": {},
   "outputs": [
    {
     "data": {
      "text/html": [
       "<div>\n",
       "<style scoped>\n",
       "    .dataframe tbody tr th:only-of-type {\n",
       "        vertical-align: middle;\n",
       "    }\n",
       "\n",
       "    .dataframe tbody tr th {\n",
       "        vertical-align: top;\n",
       "    }\n",
       "\n",
       "    .dataframe thead th {\n",
       "        text-align: right;\n",
       "    }\n",
       "</style>\n",
       "<table border=\"1\" class=\"dataframe\">\n",
       "  <thead>\n",
       "    <tr style=\"text-align: right;\">\n",
       "      <th></th>\n",
       "      <th>epoch</th>\n",
       "      <th>cosine_pearson</th>\n",
       "      <th>cosine_spearman</th>\n",
       "      <th>euclidean_pearson</th>\n",
       "      <th>euclidean_spearman</th>\n",
       "      <th>manhattan_pearson</th>\n",
       "      <th>manhattan_spearman</th>\n",
       "      <th>dot_pearson</th>\n",
       "      <th>dot_spearman</th>\n",
       "    </tr>\n",
       "  </thead>\n",
       "  <tbody>\n",
       "    <tr>\n",
       "      <th>0</th>\n",
       "      <td>0</td>\n",
       "      <td>0.583579</td>\n",
       "      <td>0.539460</td>\n",
       "      <td>0.534795</td>\n",
       "      <td>0.508965</td>\n",
       "      <td>0.535314</td>\n",
       "      <td>0.512626</td>\n",
       "      <td>0.456621</td>\n",
       "      <td>0.407305</td>\n",
       "    </tr>\n",
       "    <tr>\n",
       "      <th>1</th>\n",
       "      <td>0</td>\n",
       "      <td>0.583569</td>\n",
       "      <td>0.539549</td>\n",
       "      <td>0.534823</td>\n",
       "      <td>0.508960</td>\n",
       "      <td>0.535330</td>\n",
       "      <td>0.512650</td>\n",
       "      <td>0.456643</td>\n",
       "      <td>0.407239</td>\n",
       "    </tr>\n",
       "    <tr>\n",
       "      <th>2</th>\n",
       "      <td>0</td>\n",
       "      <td>0.583555</td>\n",
       "      <td>0.539459</td>\n",
       "      <td>0.534769</td>\n",
       "      <td>0.508935</td>\n",
       "      <td>0.535262</td>\n",
       "      <td>0.512679</td>\n",
       "      <td>0.456625</td>\n",
       "      <td>0.407282</td>\n",
       "    </tr>\n",
       "    <tr>\n",
       "      <th>3</th>\n",
       "      <td>0</td>\n",
       "      <td>0.583543</td>\n",
       "      <td>0.539447</td>\n",
       "      <td>0.534765</td>\n",
       "      <td>0.508954</td>\n",
       "      <td>0.535278</td>\n",
       "      <td>0.512621</td>\n",
       "      <td>0.456610</td>\n",
       "      <td>0.407199</td>\n",
       "    </tr>\n",
       "    <tr>\n",
       "      <th>4</th>\n",
       "      <td>0</td>\n",
       "      <td>0.583559</td>\n",
       "      <td>0.539539</td>\n",
       "      <td>0.534782</td>\n",
       "      <td>0.509054</td>\n",
       "      <td>0.535289</td>\n",
       "      <td>0.512759</td>\n",
       "      <td>0.456618</td>\n",
       "      <td>0.407254</td>\n",
       "    </tr>\n",
       "    <tr>\n",
       "      <th>...</th>\n",
       "      <td>...</td>\n",
       "      <td>...</td>\n",
       "      <td>...</td>\n",
       "      <td>...</td>\n",
       "      <td>...</td>\n",
       "      <td>...</td>\n",
       "      <td>...</td>\n",
       "      <td>...</td>\n",
       "      <td>...</td>\n",
       "    </tr>\n",
       "    <tr>\n",
       "      <th>775</th>\n",
       "      <td>19</td>\n",
       "      <td>0.163774</td>\n",
       "      <td>0.241725</td>\n",
       "      <td>0.195122</td>\n",
       "      <td>0.239439</td>\n",
       "      <td>0.189464</td>\n",
       "      <td>0.238052</td>\n",
       "      <td>0.134603</td>\n",
       "      <td>0.148005</td>\n",
       "    </tr>\n",
       "    <tr>\n",
       "      <th>776</th>\n",
       "      <td>19</td>\n",
       "      <td>0.163681</td>\n",
       "      <td>0.241546</td>\n",
       "      <td>0.195010</td>\n",
       "      <td>0.239345</td>\n",
       "      <td>0.189354</td>\n",
       "      <td>0.237815</td>\n",
       "      <td>0.134511</td>\n",
       "      <td>0.147897</td>\n",
       "    </tr>\n",
       "    <tr>\n",
       "      <th>777</th>\n",
       "      <td>19</td>\n",
       "      <td>0.163813</td>\n",
       "      <td>0.241729</td>\n",
       "      <td>0.195167</td>\n",
       "      <td>0.239597</td>\n",
       "      <td>0.189513</td>\n",
       "      <td>0.238130</td>\n",
       "      <td>0.134670</td>\n",
       "      <td>0.148221</td>\n",
       "    </tr>\n",
       "    <tr>\n",
       "      <th>778</th>\n",
       "      <td>19</td>\n",
       "      <td>0.163737</td>\n",
       "      <td>0.241471</td>\n",
       "      <td>0.195035</td>\n",
       "      <td>0.239329</td>\n",
       "      <td>0.189377</td>\n",
       "      <td>0.237964</td>\n",
       "      <td>0.134546</td>\n",
       "      <td>0.148012</td>\n",
       "    </tr>\n",
       "    <tr>\n",
       "      <th>779</th>\n",
       "      <td>19</td>\n",
       "      <td>0.163795</td>\n",
       "      <td>0.241475</td>\n",
       "      <td>0.195088</td>\n",
       "      <td>0.239532</td>\n",
       "      <td>0.189439</td>\n",
       "      <td>0.237967</td>\n",
       "      <td>0.134583</td>\n",
       "      <td>0.148062</td>\n",
       "    </tr>\n",
       "  </tbody>\n",
       "</table>\n",
       "<p>780 rows × 9 columns</p>\n",
       "</div>"
      ],
      "text/plain": [
       "     epoch  cosine_pearson  cosine_spearman  euclidean_pearson  \\\n",
       "0        0        0.583579         0.539460           0.534795   \n",
       "1        0        0.583569         0.539549           0.534823   \n",
       "2        0        0.583555         0.539459           0.534769   \n",
       "3        0        0.583543         0.539447           0.534765   \n",
       "4        0        0.583559         0.539539           0.534782   \n",
       "..     ...             ...              ...                ...   \n",
       "775     19        0.163774         0.241725           0.195122   \n",
       "776     19        0.163681         0.241546           0.195010   \n",
       "777     19        0.163813         0.241729           0.195167   \n",
       "778     19        0.163737         0.241471           0.195035   \n",
       "779     19        0.163795         0.241475           0.195088   \n",
       "\n",
       "     euclidean_spearman  manhattan_pearson  manhattan_spearman  dot_pearson  \\\n",
       "0              0.508965           0.535314            0.512626     0.456621   \n",
       "1              0.508960           0.535330            0.512650     0.456643   \n",
       "2              0.508935           0.535262            0.512679     0.456625   \n",
       "3              0.508954           0.535278            0.512621     0.456610   \n",
       "4              0.509054           0.535289            0.512759     0.456618   \n",
       "..                  ...                ...                 ...          ...   \n",
       "775            0.239439           0.189464            0.238052     0.134603   \n",
       "776            0.239345           0.189354            0.237815     0.134511   \n",
       "777            0.239597           0.189513            0.238130     0.134670   \n",
       "778            0.239329           0.189377            0.237964     0.134546   \n",
       "779            0.239532           0.189439            0.237967     0.134583   \n",
       "\n",
       "     dot_spearman  \n",
       "0        0.407305  \n",
       "1        0.407239  \n",
       "2        0.407282  \n",
       "3        0.407199  \n",
       "4        0.407254  \n",
       "..            ...  \n",
       "775      0.148005  \n",
       "776      0.147897  \n",
       "777      0.148221  \n",
       "778      0.148012  \n",
       "779      0.148062  \n",
       "\n",
       "[780 rows x 9 columns]"
      ]
     },
     "execution_count": 21,
     "metadata": {},
     "output_type": "execute_result"
    }
   ],
   "source": [
    "evaluation = pd.read_csv('berntin_model/eval/similarity_evaluation_Bertin-STS_results.csv')\n",
    "evaluation.drop(columns=['steps'])"
   ]
  },
  {
   "cell_type": "markdown",
   "id": "b412d2d1",
   "metadata": {},
   "source": [
    "Si se quiere evaluar con el mismo ESXNLI usar este código\n",
    "```\n",
    "entailment_samples = []\n",
    "contradiction_samples = []\n",
    "neutral_samples = []\n",
    "\n",
    "dataset = {'entailment': entailment_samples,\n",
    "           'contradiction': contradiction_samples,\n",
    "           'neutral': neutral_samples}\n",
    "\n",
    "for k in dataset:\n",
    "    subsample = es_only_data[es_only_data.gold_label == k]\n",
    "    for label, s1, s2 in subsample[['gold_label', 'sentence1', 'sentence2']].values:\n",
    "        input_example = InputExample(texts=[s1, s2], label=label2int[label])\n",
    "        dataset[k].append(input_example)\n",
    "\n",
    "train_examples = []\n",
    "test_examples = []\n",
    "for k in dataset:\n",
    "    train_subsample, test_subsample = train_test_split(dataset[k], test_size=0.2, random_state=42)\n",
    "    train_examples += train_subsample\n",
    "    test_examples += test_subsample\n",
    "    \n",
    "print('Train examples {}, Test examples {}'.format(len(train_examples), len(test_examples)))\n",
    "train_dataloader = DataLoader(train_examples, shuffle=True, batch_size=64, drop_last=False)\n",
    "```\n",
    "\n"
   ]
  }
 ],
 "metadata": {
  "kernelspec": {
   "display_name": "Python 3",
   "language": "python",
   "name": "python3"
  },
  "language_info": {
   "codemirror_mode": {
    "name": "ipython",
    "version": 3
   },
   "file_extension": ".py",
   "mimetype": "text/x-python",
   "name": "python",
   "nbconvert_exporter": "python",
   "pygments_lexer": "ipython3",
   "version": "3.9.5"
  }
 },
 "nbformat": 4,
 "nbformat_minor": 5
}
