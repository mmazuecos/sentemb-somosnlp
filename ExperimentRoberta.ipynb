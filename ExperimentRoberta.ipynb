{
 "cells": [
  {
   "cell_type": "markdown",
   "id": "0a697e0e",
   "metadata": {},
   "source": [
    "Cambiar el archivo SentenceTransformer.py en sentence-transformer e instalar con pip install -e sentence-transforme"
   ]
  },
  {
   "cell_type": "code",
   "execution_count": 1,
   "id": "80461198",
   "metadata": {},
   "outputs": [],
   "source": [
    "from sentence_transformers import SentenceTransformer, models\n",
    "from torch import nn\n",
    "from sentence_transformers import LoggingHandler, SentenceTransformer, util, InputExample\n",
    "import torch\n",
    "from torch.utils.data import DataLoader\n",
    "from sentence_transformers import evaluation\n",
    "import pandas as pd\n",
    "from sentence_transformers import models, losses\n",
    "import matplotlib.pyplot as plt\n",
    "plt.style.use('classic')\n",
    "%matplotlib inline\n",
    "import numpy as np\n",
    "import pandas as pd\n",
    "import json\n",
    "from sklearn.model_selection import train_test_split\n",
    "import os\n",
    "from sentence_transformers.evaluation import EmbeddingSimilarityEvaluator"
   ]
  },
  {
   "cell_type": "code",
   "execution_count": 2,
   "id": "a13e6688",
   "metadata": {},
   "outputs": [
    {
     "data": {
      "text/plain": [
       "1"
      ]
     },
     "execution_count": 2,
     "metadata": {},
     "output_type": "execute_result"
    }
   ],
   "source": [
    "torch.cuda.device_count()"
   ]
  },
  {
   "cell_type": "markdown",
   "id": "37bd9adb",
   "metadata": {},
   "source": [
    "## Modelo\n",
    "\n",
    "Siguiendo el esquema de entrenamiento para NLI de [este paper](https://arxiv.org/pdf/1908.10084.pdf).\n",
    "\n",
    "Dimensiones a *ojímetro*."
   ]
  },
  {
   "cell_type": "code",
   "execution_count": 3,
   "id": "6d703881",
   "metadata": {},
   "outputs": [
    {
     "data": {
      "application/vnd.jupyter.widget-view+json": {
       "model_id": "9a2df1e50e0f4c2da6de30a2ff222d2a",
       "version_major": 2,
       "version_minor": 0
      },
      "text/plain": [
       "Downloading:   0%|          | 0.00/613 [00:00<?, ?B/s]"
      ]
     },
     "metadata": {},
     "output_type": "display_data"
    },
    {
     "data": {
      "application/vnd.jupyter.widget-view+json": {
       "model_id": "9ffd6817b4c44e13ab14adab4765d0d2",
       "version_major": 2,
       "version_minor": 0
      },
      "text/plain": [
       "Downloading:   0%|          | 0.00/476M [00:00<?, ?B/s]"
      ]
     },
     "metadata": {},
     "output_type": "display_data"
    },
    {
     "name": "stderr",
     "output_type": "stream",
     "text": [
      "Some weights of the model checkpoint at PlanTL-GOB-ES/roberta-base-bne were not used when initializing RobertaModel: ['lm_head.bias', 'lm_head.decoder.bias', 'lm_head.decoder.weight', 'lm_head.layer_norm.bias', 'lm_head.dense.weight', 'lm_head.layer_norm.weight', 'lm_head.dense.bias']\n",
      "- This IS expected if you are initializing RobertaModel from the checkpoint of a model trained on another task or with another architecture (e.g. initializing a BertForSequenceClassification model from a BertForPreTraining model).\n",
      "- This IS NOT expected if you are initializing RobertaModel from the checkpoint of a model that you expect to be exactly identical (initializing a BertForSequenceClassification model from a BertForSequenceClassification model).\n",
      "Some weights of RobertaModel were not initialized from the model checkpoint at PlanTL-GOB-ES/roberta-base-bne and are newly initialized: ['roberta.pooler.dense.weight', 'roberta.pooler.dense.bias']\n",
      "You should probably TRAIN this model on a down-stream task to be able to use it for predictions and inference.\n"
     ]
    },
    {
     "data": {
      "application/vnd.jupyter.widget-view+json": {
       "model_id": "d071e365c1524e67941c9baa50f8fcf8",
       "version_major": 2,
       "version_minor": 0
      },
      "text/plain": [
       "Downloading:   0%|          | 0.00/1.42k [00:00<?, ?B/s]"
      ]
     },
     "metadata": {},
     "output_type": "display_data"
    },
    {
     "data": {
      "application/vnd.jupyter.widget-view+json": {
       "model_id": "cbd87085c2de402d9d7d620eb377a564",
       "version_major": 2,
       "version_minor": 0
      },
      "text/plain": [
       "Downloading:   0%|          | 0.00/1.10M [00:00<?, ?B/s]"
      ]
     },
     "metadata": {},
     "output_type": "display_data"
    },
    {
     "data": {
      "application/vnd.jupyter.widget-view+json": {
       "model_id": "97f21b171809452281758c9cd2551f28",
       "version_major": 2,
       "version_minor": 0
      },
      "text/plain": [
       "Downloading:   0%|          | 0.00/497k [00:00<?, ?B/s]"
      ]
     },
     "metadata": {},
     "output_type": "display_data"
    },
    {
     "data": {
      "application/vnd.jupyter.widget-view+json": {
       "model_id": "a1e62754817e411aa0752658a5c3a8ec",
       "version_major": 2,
       "version_minor": 0
      },
      "text/plain": [
       "Downloading:   0%|          | 0.00/1.39M [00:00<?, ?B/s]"
      ]
     },
     "metadata": {},
     "output_type": "display_data"
    },
    {
     "data": {
      "application/vnd.jupyter.widget-view+json": {
       "model_id": "87ac477874144299b9bf57f1cd5f981a",
       "version_major": 2,
       "version_minor": 0
      },
      "text/plain": [
       "Downloading:   0%|          | 0.00/772 [00:00<?, ?B/s]"
      ]
     },
     "metadata": {},
     "output_type": "display_data"
    }
   ],
   "source": [
    "word_embedding_model = models.Transformer('PlanTL-GOB-ES/roberta-base-bne')\n",
    "pooling_model = models.Pooling(word_embedding_model.get_word_embedding_dimension(),\n",
    "                               pooling_mode_mean_tokens=True,\n",
    "                               pooling_mode_cls_token=False,\n",
    "                               pooling_mode_max_tokens=False)\n",
    "dense_model = models.Dense(in_features=pooling_model.get_sentence_embedding_dimension(),\n",
    "                           out_features=512, #ojimetro\n",
    "                           activation_function=nn.Tanh())"
   ]
  },
  {
   "cell_type": "code",
   "execution_count": 4,
   "id": "3dff31f2",
   "metadata": {},
   "outputs": [
    {
     "data": {
      "text/plain": [
       "SentenceTransformer(\n",
       "  (0): Transformer({'max_seq_length': 512, 'do_lower_case': False}) with Transformer model: RobertaModel \n",
       "  (1): Pooling({'word_embedding_dimension': 768, 'pooling_mode_cls_token': False, 'pooling_mode_mean_tokens': True, 'pooling_mode_max_tokens': False, 'pooling_mode_mean_sqrt_len_tokens': False})\n",
       "  (2): Dense({'in_features': 768, 'out_features': 512, 'bias': True, 'activation_function': 'torch.nn.modules.activation.Tanh'})\n",
       ")"
      ]
     },
     "execution_count": 4,
     "metadata": {},
     "output_type": "execute_result"
    }
   ],
   "source": [
    "model = SentenceTransformer(modules=[word_embedding_model, pooling_model, dense_model], cache_folder='beto_sentemb')\n",
    "model.cuda()"
   ]
  },
  {
   "cell_type": "code",
   "execution_count": 5,
   "id": "9c418cee",
   "metadata": {},
   "outputs": [
    {
     "data": {
      "text/plain": [
       "SentenceTransformer(\n",
       "  (0): Transformer({'max_seq_length': 512, 'do_lower_case': False}) with Transformer model: RobertaModel \n",
       "  (1): Pooling({'word_embedding_dimension': 768, 'pooling_mode_cls_token': False, 'pooling_mode_mean_tokens': True, 'pooling_mode_max_tokens': False, 'pooling_mode_mean_sqrt_len_tokens': False})\n",
       "  (2): Dense({'in_features': 768, 'out_features': 512, 'bias': True, 'activation_function': 'torch.nn.modules.activation.Tanh'})\n",
       ")"
      ]
     },
     "execution_count": 5,
     "metadata": {},
     "output_type": "execute_result"
    }
   ],
   "source": [
    "model"
   ]
  },
  {
   "cell_type": "markdown",
   "id": "4e20bfe1",
   "metadata": {},
   "source": [
    "## Dataset"
   ]
  },
  {
   "cell_type": "code",
   "execution_count": 6,
   "id": "ec9bff42",
   "metadata": {},
   "outputs": [
    {
     "data": {
      "text/html": [
       "<div>\n",
       "<style scoped>\n",
       "    .dataframe tbody tr th:only-of-type {\n",
       "        vertical-align: middle;\n",
       "    }\n",
       "\n",
       "    .dataframe tbody tr th {\n",
       "        vertical-align: top;\n",
       "    }\n",
       "\n",
       "    .dataframe thead th {\n",
       "        text-align: right;\n",
       "    }\n",
       "</style>\n",
       "<table border=\"1\" class=\"dataframe\">\n",
       "  <thead>\n",
       "    <tr style=\"text-align: right;\">\n",
       "      <th></th>\n",
       "      <th>language</th>\n",
       "      <th>sentence1</th>\n",
       "      <th>sentence2</th>\n",
       "      <th>gold_label</th>\n",
       "      <th>promptID</th>\n",
       "      <th>pairID</th>\n",
       "      <th>genre</th>\n",
       "      <th>label1</th>\n",
       "    </tr>\n",
       "  </thead>\n",
       "  <tbody>\n",
       "    <tr>\n",
       "      <th>0</th>\n",
       "      <td>es</td>\n",
       "      <td>A ver si nos tenemos que poner todos en huelga...</td>\n",
       "      <td>La huelga es el método de lucha más eficaz par...</td>\n",
       "      <td>neutral</td>\n",
       "      <td>1</td>\n",
       "      <td>1</td>\n",
       "      <td>newspaper</td>\n",
       "      <td>neutral</td>\n",
       "    </tr>\n",
       "    <tr>\n",
       "      <th>1</th>\n",
       "      <td>es</td>\n",
       "      <td>A ver si nos tenemos que poner todos en huelga...</td>\n",
       "      <td>Tendremos que optar por hacer una huelga para ...</td>\n",
       "      <td>entailment</td>\n",
       "      <td>1</td>\n",
       "      <td>2</td>\n",
       "      <td>newspaper</td>\n",
       "      <td>entailment</td>\n",
       "    </tr>\n",
       "    <tr>\n",
       "      <th>2</th>\n",
       "      <td>es</td>\n",
       "      <td>A ver si nos tenemos que poner todos en huelga...</td>\n",
       "      <td>Queda descartada la huelga aunque no cobremos ...</td>\n",
       "      <td>contradiction</td>\n",
       "      <td>1</td>\n",
       "      <td>3</td>\n",
       "      <td>newspaper</td>\n",
       "      <td>contradiction</td>\n",
       "    </tr>\n",
       "    <tr>\n",
       "      <th>3</th>\n",
       "      <td>es</td>\n",
       "      <td>Profesor de FP y funcionario de carrera de la ...</td>\n",
       "      <td>Se dedica a la política y a la educación.</td>\n",
       "      <td>entailment</td>\n",
       "      <td>2</td>\n",
       "      <td>4</td>\n",
       "      <td>newspaper</td>\n",
       "      <td>entailment</td>\n",
       "    </tr>\n",
       "    <tr>\n",
       "      <th>4</th>\n",
       "      <td>es</td>\n",
       "      <td>Profesor de FP y funcionario de carrera de la ...</td>\n",
       "      <td>Gana mucho dinero.</td>\n",
       "      <td>neutral</td>\n",
       "      <td>2</td>\n",
       "      <td>5</td>\n",
       "      <td>newspaper</td>\n",
       "      <td>neutral</td>\n",
       "    </tr>\n",
       "    <tr>\n",
       "      <th>...</th>\n",
       "      <td>...</td>\n",
       "      <td>...</td>\n",
       "      <td>...</td>\n",
       "      <td>...</td>\n",
       "      <td>...</td>\n",
       "      <td>...</td>\n",
       "      <td>...</td>\n",
       "      <td>...</td>\n",
       "    </tr>\n",
       "    <tr>\n",
       "      <th>2485</th>\n",
       "      <td>es</td>\n",
       "      <td>Fue este verano cuando Cynthia decidió separar...</td>\n",
       "      <td>Cynthia ha mantenido una relación sentimental ...</td>\n",
       "      <td>entailment</td>\n",
       "      <td>829</td>\n",
       "      <td>2486</td>\n",
       "      <td>celebrity</td>\n",
       "      <td>entailment</td>\n",
       "    </tr>\n",
       "    <tr>\n",
       "      <th>2486</th>\n",
       "      <td>es</td>\n",
       "      <td>Fue este verano cuando Cynthia decidió separar...</td>\n",
       "      <td>Cynthia no tiene ningún abogado que la represe...</td>\n",
       "      <td>contradiction</td>\n",
       "      <td>829</td>\n",
       "      <td>2487</td>\n",
       "      <td>celebrity</td>\n",
       "      <td>contradiction</td>\n",
       "    </tr>\n",
       "    <tr>\n",
       "      <th>2487</th>\n",
       "      <td>es</td>\n",
       "      <td>Eva Mendes, que firmó a sus fans imágenes de l...</td>\n",
       "      <td>Al-Fayed y Eva Mendes son los propietarios de ...</td>\n",
       "      <td>neutral</td>\n",
       "      <td>830</td>\n",
       "      <td>2488</td>\n",
       "      <td>celebrity</td>\n",
       "      <td>neutral</td>\n",
       "    </tr>\n",
       "    <tr>\n",
       "      <th>2488</th>\n",
       "      <td>es</td>\n",
       "      <td>Eva Mendes, que firmó a sus fans imágenes de l...</td>\n",
       "      <td>Al-Fayed firmó a Eva Mendes imágenes de la cam...</td>\n",
       "      <td>contradiction</td>\n",
       "      <td>830</td>\n",
       "      <td>2489</td>\n",
       "      <td>celebrity</td>\n",
       "      <td>contradiction</td>\n",
       "    </tr>\n",
       "    <tr>\n",
       "      <th>2489</th>\n",
       "      <td>es</td>\n",
       "      <td>Eva Mendes, que firmó a sus fans imágenes de l...</td>\n",
       "      <td>Al-Fayed acompañó a Eva Mendes cuando estaba f...</td>\n",
       "      <td>entailment</td>\n",
       "      <td>830</td>\n",
       "      <td>2490</td>\n",
       "      <td>celebrity</td>\n",
       "      <td>entailment</td>\n",
       "    </tr>\n",
       "  </tbody>\n",
       "</table>\n",
       "<p>2490 rows × 8 columns</p>\n",
       "</div>"
      ],
      "text/plain": [
       "     language                                          sentence1  \\\n",
       "0          es  A ver si nos tenemos que poner todos en huelga...   \n",
       "1          es  A ver si nos tenemos que poner todos en huelga...   \n",
       "2          es  A ver si nos tenemos que poner todos en huelga...   \n",
       "3          es  Profesor de FP y funcionario de carrera de la ...   \n",
       "4          es  Profesor de FP y funcionario de carrera de la ...   \n",
       "...       ...                                                ...   \n",
       "2485       es  Fue este verano cuando Cynthia decidió separar...   \n",
       "2486       es  Fue este verano cuando Cynthia decidió separar...   \n",
       "2487       es  Eva Mendes, que firmó a sus fans imágenes de l...   \n",
       "2488       es  Eva Mendes, que firmó a sus fans imágenes de l...   \n",
       "2489       es  Eva Mendes, que firmó a sus fans imágenes de l...   \n",
       "\n",
       "                                              sentence2     gold_label  \\\n",
       "0     La huelga es el método de lucha más eficaz par...        neutral   \n",
       "1     Tendremos que optar por hacer una huelga para ...     entailment   \n",
       "2     Queda descartada la huelga aunque no cobremos ...  contradiction   \n",
       "3             Se dedica a la política y a la educación.     entailment   \n",
       "4                                    Gana mucho dinero.        neutral   \n",
       "...                                                 ...            ...   \n",
       "2485  Cynthia ha mantenido una relación sentimental ...     entailment   \n",
       "2486  Cynthia no tiene ningún abogado que la represe...  contradiction   \n",
       "2487  Al-Fayed y Eva Mendes son los propietarios de ...        neutral   \n",
       "2488  Al-Fayed firmó a Eva Mendes imágenes de la cam...  contradiction   \n",
       "2489  Al-Fayed acompañó a Eva Mendes cuando estaba f...     entailment   \n",
       "\n",
       "      promptID  pairID      genre         label1  \n",
       "0            1       1  newspaper        neutral  \n",
       "1            1       2  newspaper     entailment  \n",
       "2            1       3  newspaper  contradiction  \n",
       "3            2       4  newspaper     entailment  \n",
       "4            2       5  newspaper        neutral  \n",
       "...        ...     ...        ...            ...  \n",
       "2485       829    2486  celebrity     entailment  \n",
       "2486       829    2487  celebrity  contradiction  \n",
       "2487       830    2488  celebrity        neutral  \n",
       "2488       830    2489  celebrity  contradiction  \n",
       "2489       830    2490  celebrity     entailment  \n",
       "\n",
       "[2490 rows x 8 columns]"
      ]
     },
     "execution_count": 6,
     "metadata": {},
     "output_type": "execute_result"
    }
   ],
   "source": [
    "esxnli = pd.read_table('esxnli.tsv')\n",
    "label2int = {\"contradiction\": 0, \"entailment\": 1, \"neutral\": 2}\n",
    "es_only_data = esxnli[esxnli.language == 'es']\n",
    "es_only_data[['language', 'sentence1', 'sentence2', 'gold_label', 'promptID', 'pairID', 'genre', 'label1']]\n",
    "\n",
    "#train_examples = [InputExample(texts=['Mi primera oración', 'Mi segunda oración'], label=0.8),\n",
    "#   InputExample(texts=['Otro par', 'Oración cualquiera'], label=0.3)]\n",
    "#train_dataloader = DataLoader(train_examples, shuffle=True, batch_size=16)"
   ]
  },
  {
   "cell_type": "markdown",
   "id": "8e76b51e",
   "metadata": {},
   "source": [
    "Datos de entrenamiento en NLI"
   ]
  },
  {
   "cell_type": "code",
   "execution_count": 7,
   "id": "25f32a24",
   "metadata": {},
   "outputs": [],
   "source": [
    "train_examples = []\n",
    "for label, s1, s2 in es_only_data[['gold_label', 'sentence1', 'sentence2']].values:\n",
    "    input_example = InputExample(texts=[s1, s2], label=label2int[label])\n",
    "    train_examples.append(input_example)\n",
    "    \n",
    "train_dataloader = DataLoader(train_examples, shuffle=True, batch_size=64, drop_last=False)"
   ]
  },
  {
   "cell_type": "markdown",
   "id": "5f437930",
   "metadata": {},
   "source": [
    "Datos de testing en STS"
   ]
  },
  {
   "cell_type": "code",
   "execution_count": 8,
   "id": "65789b54",
   "metadata": {},
   "outputs": [],
   "source": [
    "sts_root = 'sts2015-es'\n",
    "sts_files = [('STS.gs.newswire.txt', 'STS.input.newswire.txt'),\n",
    "             ('STS.gs.wikipedia.txt', 'STS.input.wikipedia.txt')]\n",
    "\n",
    "dev_examples = []\n",
    "for gs_fname, sents_fname in sts_files:\n",
    "    gs = open(os.path.join(sts_root, gs_fname))\n",
    "    sents = open(os.path.join(sts_root, sents_fname))\n",
    "    for g, s in zip(gs, sents):\n",
    "        sent1, sent2 = s.split('\\t')\n",
    "        dp = InputExample(texts=[sent1, sent2], label=float(g))\n",
    "        dev_examples.append(dp)\n",
    "gs.close()\n",
    "sents.close()\n",
    "    \n",
    "evaluator = EmbeddingSimilarityEvaluator.from_input_examples(dev_examples, batch_size=32,\n",
    "                                                             name='dev-sts')"
   ]
  },
  {
   "cell_type": "markdown",
   "id": "2b4daefc",
   "metadata": {},
   "source": [
    "## Callback "
   ]
  },
  {
   "cell_type": "code",
   "execution_count": 9,
   "id": "368e518e",
   "metadata": {},
   "outputs": [],
   "source": [
    "class Printable:\n",
    "    def __init__(self, skip: int = 1) -> None:\n",
    "        \"\"\"\n",
    "        Params\n",
    "        ------\n",
    "        skip: int, optional\n",
    "          skip every skip epochs. Default: 1\n",
    "        \"\"\"\n",
    "        self.skip = skip\n",
    "  \n",
    "    def __call__(self, score, epoch, steps) -> None:\n",
    "        if epoch % self.skip == 0:\n",
    "            print('--- Evaluation report ---')\n",
    "            print('Epoch {}: {}'.format(epoch, score))\n",
    "            \n",
    "callback = Printable(skip=5)"
   ]
  },
  {
   "cell_type": "code",
   "execution_count": 10,
   "id": "f1efacbf",
   "metadata": {},
   "outputs": [],
   "source": [
    "train_loss = losses.SoftmaxLoss(model=model,\n",
    "                                sentence_embedding_dimension=model.get_sentence_embedding_dimension(),\n",
    "                                num_labels=len(label2int))"
   ]
  },
  {
   "cell_type": "code",
   "execution_count": 11,
   "id": "821bf448",
   "metadata": {
    "scrolled": true
   },
   "outputs": [
    {
     "name": "stderr",
     "output_type": "stream",
     "text": [
      "/users/mmazuecos/miniconda3/envs/rud/lib/python3.9/site-packages/transformers/optimization.py:306: FutureWarning: This implementation of AdamW is deprecated and will be removed in a future version. Use the PyTorch implementation torch.optim.AdamW instead, or set `no_deprecation_warning=True` to disable this warning\n",
      "  warnings.warn(\n"
     ]
    },
    {
     "data": {
      "application/vnd.jupyter.widget-view+json": {
       "model_id": "a33ee5b64330469a9b47852d3ff3850a",
       "version_major": 2,
       "version_minor": 0
      },
      "text/plain": [
       "Epoch:   0%|          | 0/20 [00:00<?, ?it/s]"
      ]
     },
     "metadata": {},
     "output_type": "display_data"
    },
    {
     "data": {
      "application/vnd.jupyter.widget-view+json": {
       "model_id": "6a1d39f734054aebb455010e0ecf301f",
       "version_major": 2,
       "version_minor": 0
      },
      "text/plain": [
       "Iteration:   0%|          | 0/39 [00:00<?, ?it/s]"
      ]
     },
     "metadata": {},
     "output_type": "display_data"
    },
    {
     "name": "stdout",
     "output_type": "stream",
     "text": [
      "--- Evaluation report ---\n",
      "Epoch 0: 0.513780290096207\n",
      "--- Evaluation report ---\n",
      "Epoch 0: 0.5137838694668423\n",
      "--- Evaluation report ---\n",
      "Epoch 0: 0.5137381614719833\n",
      "--- Evaluation report ---\n",
      "Epoch 0: 0.5138087935874404\n",
      "--- Evaluation report ---\n",
      "Epoch 0: 0.5137387401912168\n",
      "--- Evaluation report ---\n",
      "Epoch 0: 0.5138083816757433\n",
      "--- Evaluation report ---\n",
      "Epoch 0: 0.5137635969315638\n",
      "--- Evaluation report ---\n",
      "Epoch 0: 0.5138550165601451\n",
      "--- Evaluation report ---\n",
      "Epoch 0: 0.5136801886257772\n",
      "--- Evaluation report ---\n",
      "Epoch 0: 0.5136026957003349\n",
      "--- Evaluation report ---\n",
      "Epoch 0: 0.5137302002130901\n",
      "--- Evaluation report ---\n",
      "Epoch 0: 0.5137843629626423\n",
      "--- Evaluation report ---\n",
      "Epoch 0: 0.5136744677626053\n",
      "--- Evaluation report ---\n",
      "Epoch 0: 0.51369414373548\n",
      "--- Evaluation report ---\n",
      "Epoch 0: 0.5135779101524166\n",
      "--- Evaluation report ---\n",
      "Epoch 0: 0.513675433799068\n",
      "--- Evaluation report ---\n",
      "Epoch 0: 0.5136553069410277\n",
      "--- Evaluation report ---\n",
      "Epoch 0: 0.513323920340204\n",
      "--- Evaluation report ---\n",
      "Epoch 0: 0.5131918919035833\n",
      "--- Evaluation report ---\n",
      "Epoch 0: 0.5131224922179732\n",
      "--- Evaluation report ---\n",
      "Epoch 0: 0.513148016205908\n",
      "--- Evaluation report ---\n",
      "Epoch 0: 0.5130338989937072\n",
      "--- Evaluation report ---\n",
      "Epoch 0: 0.5132111384584879\n",
      "--- Evaluation report ---\n",
      "Epoch 0: 0.5132784501753973\n",
      "--- Evaluation report ---\n",
      "Epoch 0: 0.5134295223413005\n",
      "--- Evaluation report ---\n",
      "Epoch 0: 0.5134111851688501\n",
      "--- Evaluation report ---\n",
      "Epoch 0: 0.5134675817333423\n",
      "--- Evaluation report ---\n",
      "Epoch 0: 0.5134526888233037\n",
      "--- Evaluation report ---\n",
      "Epoch 0: 0.5133612127230155\n",
      "--- Evaluation report ---\n",
      "Epoch 0: 0.5131951587894574\n",
      "--- Evaluation report ---\n",
      "Epoch 0: 0.5132281259290834\n",
      "--- Evaluation report ---\n",
      "Epoch 0: 0.5129071188823167\n",
      "--- Evaluation report ---\n",
      "Epoch 0: 0.512916734889868\n",
      "--- Evaluation report ---\n",
      "Epoch 0: 0.5129404837297882\n",
      "--- Evaluation report ---\n",
      "Epoch 0: 0.51316514605097\n",
      "--- Evaluation report ---\n",
      "Epoch 0: 0.5133974216366238\n",
      "--- Evaluation report ---\n",
      "Epoch 0: 0.5138270420741677\n",
      "--- Evaluation report ---\n",
      "Epoch 0: 0.5140031059182555\n",
      "--- Evaluation report ---\n",
      "Epoch 0: 0.5147141754978388\n"
     ]
    },
    {
     "data": {
      "application/vnd.jupyter.widget-view+json": {
       "model_id": "64f63192874548de81292393b7331c5d",
       "version_major": 2,
       "version_minor": 0
      },
      "text/plain": [
       "Iteration:   0%|          | 0/39 [00:00<?, ?it/s]"
      ]
     },
     "metadata": {},
     "output_type": "display_data"
    },
    {
     "data": {
      "application/vnd.jupyter.widget-view+json": {
       "model_id": "96e2d6fe32584c1cabef3c1bca58ba53",
       "version_major": 2,
       "version_minor": 0
      },
      "text/plain": [
       "Iteration:   0%|          | 0/39 [00:00<?, ?it/s]"
      ]
     },
     "metadata": {},
     "output_type": "display_data"
    },
    {
     "data": {
      "application/vnd.jupyter.widget-view+json": {
       "model_id": "6a350ea3ceca4d3e80824f8ff07245ca",
       "version_major": 2,
       "version_minor": 0
      },
      "text/plain": [
       "Iteration:   0%|          | 0/39 [00:00<?, ?it/s]"
      ]
     },
     "metadata": {},
     "output_type": "display_data"
    },
    {
     "data": {
      "application/vnd.jupyter.widget-view+json": {
       "model_id": "5b2ae6a93d154a84a1d11a3e5a9fa998",
       "version_major": 2,
       "version_minor": 0
      },
      "text/plain": [
       "Iteration:   0%|          | 0/39 [00:00<?, ?it/s]"
      ]
     },
     "metadata": {},
     "output_type": "display_data"
    },
    {
     "data": {
      "application/vnd.jupyter.widget-view+json": {
       "model_id": "f72b31760ac948ed994ac1e8809a8fe8",
       "version_major": 2,
       "version_minor": 0
      },
      "text/plain": [
       "Iteration:   0%|          | 0/39 [00:00<?, ?it/s]"
      ]
     },
     "metadata": {},
     "output_type": "display_data"
    },
    {
     "name": "stdout",
     "output_type": "stream",
     "text": [
      "--- Evaluation report ---\n",
      "Epoch 5: 0.24281228686762354\n",
      "--- Evaluation report ---\n",
      "Epoch 5: 0.24760246480951892\n",
      "--- Evaluation report ---\n",
      "Epoch 5: 0.2535103296320791\n",
      "--- Evaluation report ---\n",
      "Epoch 5: 0.2636322073591433\n",
      "--- Evaluation report ---\n",
      "Epoch 5: 0.26725059594952716\n",
      "--- Evaluation report ---\n",
      "Epoch 5: 0.264512988198524\n",
      "--- Evaluation report ---\n",
      "Epoch 5: 0.2564600577032776\n",
      "--- Evaluation report ---\n",
      "Epoch 5: 0.24315628995017408\n",
      "--- Evaluation report ---\n",
      "Epoch 5: 0.22712433159969594\n",
      "--- Evaluation report ---\n",
      "Epoch 5: 0.2196810162124222\n",
      "--- Evaluation report ---\n",
      "Epoch 5: 0.2158075406506718\n",
      "--- Evaluation report ---\n",
      "Epoch 5: 0.21328972329974236\n",
      "--- Evaluation report ---\n",
      "Epoch 5: 0.21187371292335888\n",
      "--- Evaluation report ---\n",
      "Epoch 5: 0.2032163943375387\n",
      "--- Evaluation report ---\n",
      "Epoch 5: 0.19711155050061743\n",
      "--- Evaluation report ---\n",
      "Epoch 5: 0.19580191276906742\n",
      "--- Evaluation report ---\n",
      "Epoch 5: 0.1952301509256804\n",
      "--- Evaluation report ---\n",
      "Epoch 5: 0.1951447005542933\n",
      "--- Evaluation report ---\n",
      "Epoch 5: 0.19890302549090488\n",
      "--- Evaluation report ---\n",
      "Epoch 5: 0.20751493436307406\n",
      "--- Evaluation report ---\n",
      "Epoch 5: 0.20891344559425326\n",
      "--- Evaluation report ---\n",
      "Epoch 5: 0.21405623415278502\n",
      "--- Evaluation report ---\n",
      "Epoch 5: 0.21307399520123385\n",
      "--- Evaluation report ---\n",
      "Epoch 5: 0.21627223386049566\n",
      "--- Evaluation report ---\n",
      "Epoch 5: 0.22399492480541783\n",
      "--- Evaluation report ---\n",
      "Epoch 5: 0.23186188427131385\n",
      "--- Evaluation report ---\n",
      "Epoch 5: 0.23396111411480014\n",
      "--- Evaluation report ---\n",
      "Epoch 5: 0.23453220837716068\n",
      "--- Evaluation report ---\n",
      "Epoch 5: 0.23234095177898406\n",
      "--- Evaluation report ---\n",
      "Epoch 5: 0.2327400800096984\n",
      "--- Evaluation report ---\n",
      "Epoch 5: 0.2323989603090281\n",
      "--- Evaluation report ---\n",
      "Epoch 5: 0.2227234244154859\n",
      "--- Evaluation report ---\n",
      "Epoch 5: 0.2086229910323359\n",
      "--- Evaluation report ---\n",
      "Epoch 5: 0.19859062597822408\n",
      "--- Evaluation report ---\n",
      "Epoch 5: 0.19283705759588632\n",
      "--- Evaluation report ---\n",
      "Epoch 5: 0.18895970438264176\n",
      "--- Evaluation report ---\n",
      "Epoch 5: 0.19448152272183591\n",
      "--- Evaluation report ---\n",
      "Epoch 5: 0.20653397375816926\n",
      "--- Evaluation report ---\n",
      "Epoch 5: 0.2230051009970979\n"
     ]
    },
    {
     "data": {
      "application/vnd.jupyter.widget-view+json": {
       "model_id": "735a1525a9ec436a95b847cb44ebfb23",
       "version_major": 2,
       "version_minor": 0
      },
      "text/plain": [
       "Iteration:   0%|          | 0/39 [00:00<?, ?it/s]"
      ]
     },
     "metadata": {},
     "output_type": "display_data"
    },
    {
     "data": {
      "application/vnd.jupyter.widget-view+json": {
       "model_id": "0794f5c4e46d4194979fb1025d6d5325",
       "version_major": 2,
       "version_minor": 0
      },
      "text/plain": [
       "Iteration:   0%|          | 0/39 [00:00<?, ?it/s]"
      ]
     },
     "metadata": {},
     "output_type": "display_data"
    },
    {
     "data": {
      "application/vnd.jupyter.widget-view+json": {
       "model_id": "b5ff7eb6958540f9949400e2b3983d8c",
       "version_major": 2,
       "version_minor": 0
      },
      "text/plain": [
       "Iteration:   0%|          | 0/39 [00:00<?, ?it/s]"
      ]
     },
     "metadata": {},
     "output_type": "display_data"
    },
    {
     "data": {
      "application/vnd.jupyter.widget-view+json": {
       "model_id": "438ed0e2a50d4b418cc0fdb6b0adb7e4",
       "version_major": 2,
       "version_minor": 0
      },
      "text/plain": [
       "Iteration:   0%|          | 0/39 [00:00<?, ?it/s]"
      ]
     },
     "metadata": {},
     "output_type": "display_data"
    },
    {
     "data": {
      "application/vnd.jupyter.widget-view+json": {
       "model_id": "9f2ff6dff21f47d896bd45bfba6c355e",
       "version_major": 2,
       "version_minor": 0
      },
      "text/plain": [
       "Iteration:   0%|          | 0/39 [00:00<?, ?it/s]"
      ]
     },
     "metadata": {},
     "output_type": "display_data"
    },
    {
     "name": "stdout",
     "output_type": "stream",
     "text": [
      "--- Evaluation report ---\n",
      "Epoch 10: 0.1805350448864693\n",
      "--- Evaluation report ---\n",
      "Epoch 10: 0.18130607256432935\n",
      "--- Evaluation report ---\n",
      "Epoch 10: 0.18354055148300646\n",
      "--- Evaluation report ---\n",
      "Epoch 10: 0.187226479387876\n",
      "--- Evaluation report ---\n",
      "Epoch 10: 0.18569159697722748\n",
      "--- Evaluation report ---\n",
      "Epoch 10: 0.18544092740371693\n",
      "--- Evaluation report ---\n",
      "Epoch 10: 0.18468833632526854\n",
      "--- Evaluation report ---\n",
      "Epoch 10: 0.18486993256831774\n",
      "--- Evaluation report ---\n",
      "Epoch 10: 0.18630342788605384\n",
      "--- Evaluation report ---\n",
      "Epoch 10: 0.1874095954430493\n",
      "--- Evaluation report ---\n",
      "Epoch 10: 0.18908689987396018\n",
      "--- Evaluation report ---\n",
      "Epoch 10: 0.1909110011114345\n",
      "--- Evaluation report ---\n",
      "Epoch 10: 0.19357094220174215\n",
      "--- Evaluation report ---\n",
      "Epoch 10: 0.19608674260574058\n",
      "--- Evaluation report ---\n",
      "Epoch 10: 0.19856166432475694\n",
      "--- Evaluation report ---\n",
      "Epoch 10: 0.20032677696642495\n",
      "--- Evaluation report ---\n",
      "Epoch 10: 0.202099843765004\n",
      "--- Evaluation report ---\n",
      "Epoch 10: 0.20277445569802105\n",
      "--- Evaluation report ---\n",
      "Epoch 10: 0.20300917434615465\n",
      "--- Evaluation report ---\n",
      "Epoch 10: 0.20234308472411375\n",
      "--- Evaluation report ---\n",
      "Epoch 10: 0.2022413709426139\n",
      "--- Evaluation report ---\n",
      "Epoch 10: 0.2006747287197278\n",
      "--- Evaluation report ---\n",
      "Epoch 10: 0.19922830789701126\n",
      "--- Evaluation report ---\n",
      "Epoch 10: 0.19788040498917855\n",
      "--- Evaluation report ---\n",
      "Epoch 10: 0.1962775003330891\n",
      "--- Evaluation report ---\n",
      "Epoch 10: 0.19404434237261325\n",
      "--- Evaluation report ---\n",
      "Epoch 10: 0.19372116213654764\n",
      "--- Evaluation report ---\n",
      "Epoch 10: 0.19287429709117218\n",
      "--- Evaluation report ---\n",
      "Epoch 10: 0.19349816166600622\n",
      "--- Evaluation report ---\n",
      "Epoch 10: 0.19497155560296206\n",
      "--- Evaluation report ---\n",
      "Epoch 10: 0.1950871181397981\n",
      "--- Evaluation report ---\n",
      "Epoch 10: 0.1955220258727605\n",
      "--- Evaluation report ---\n",
      "Epoch 10: 0.19553185493808622\n",
      "--- Evaluation report ---\n",
      "Epoch 10: 0.19499744922447781\n",
      "--- Evaluation report ---\n",
      "Epoch 10: 0.19598238690783817\n",
      "--- Evaluation report ---\n",
      "Epoch 10: 0.19700529148659698\n",
      "--- Evaluation report ---\n",
      "Epoch 10: 0.19790284707474898\n",
      "--- Evaluation report ---\n",
      "Epoch 10: 0.19819139832054833\n",
      "--- Evaluation report ---\n",
      "Epoch 10: 0.19801829598077195\n"
     ]
    },
    {
     "data": {
      "application/vnd.jupyter.widget-view+json": {
       "model_id": "1c28cf8653714828855195a56dfdd086",
       "version_major": 2,
       "version_minor": 0
      },
      "text/plain": [
       "Iteration:   0%|          | 0/39 [00:00<?, ?it/s]"
      ]
     },
     "metadata": {},
     "output_type": "display_data"
    },
    {
     "data": {
      "application/vnd.jupyter.widget-view+json": {
       "model_id": "1116f202d59d474998775df17907f7e2",
       "version_major": 2,
       "version_minor": 0
      },
      "text/plain": [
       "Iteration:   0%|          | 0/39 [00:00<?, ?it/s]"
      ]
     },
     "metadata": {},
     "output_type": "display_data"
    },
    {
     "data": {
      "application/vnd.jupyter.widget-view+json": {
       "model_id": "caf0e7a5ea4f4352bfcf90c5f56a6ad6",
       "version_major": 2,
       "version_minor": 0
      },
      "text/plain": [
       "Iteration:   0%|          | 0/39 [00:00<?, ?it/s]"
      ]
     },
     "metadata": {},
     "output_type": "display_data"
    },
    {
     "data": {
      "application/vnd.jupyter.widget-view+json": {
       "model_id": "26c50149497442388c95529427b888f2",
       "version_major": 2,
       "version_minor": 0
      },
      "text/plain": [
       "Iteration:   0%|          | 0/39 [00:00<?, ?it/s]"
      ]
     },
     "metadata": {},
     "output_type": "display_data"
    },
    {
     "data": {
      "application/vnd.jupyter.widget-view+json": {
       "model_id": "fa5ea56b09cf42d79706d9166b10a95c",
       "version_major": 2,
       "version_minor": 0
      },
      "text/plain": [
       "Iteration:   0%|          | 0/39 [00:00<?, ?it/s]"
      ]
     },
     "metadata": {},
     "output_type": "display_data"
    },
    {
     "name": "stdout",
     "output_type": "stream",
     "text": [
      "--- Evaluation report ---\n",
      "Epoch 15: 0.1940157358154368\n",
      "--- Evaluation report ---\n",
      "Epoch 15: 0.19402435755337433\n",
      "--- Evaluation report ---\n",
      "Epoch 15: 0.19402373258390274\n",
      "--- Evaluation report ---\n",
      "Epoch 15: 0.19424264234517563\n",
      "--- Evaluation report ---\n",
      "Epoch 15: 0.1941934544069919\n",
      "--- Evaluation report ---\n",
      "Epoch 15: 0.19412925299763853\n",
      "--- Evaluation report ---\n",
      "Epoch 15: 0.19389379574922033\n",
      "--- Evaluation report ---\n",
      "Epoch 15: 0.19393291315660066\n",
      "--- Evaluation report ---\n",
      "Epoch 15: 0.19364517153034405\n",
      "--- Evaluation report ---\n",
      "Epoch 15: 0.1935944637800362\n",
      "--- Evaluation report ---\n",
      "Epoch 15: 0.1933578986311911\n",
      "--- Evaluation report ---\n",
      "Epoch 15: 0.19312437310659417\n",
      "--- Evaluation report ---\n",
      "Epoch 15: 0.19321726629623368\n",
      "--- Evaluation report ---\n",
      "Epoch 15: 0.19334592478426965\n",
      "--- Evaluation report ---\n",
      "Epoch 15: 0.19301863963508387\n",
      "--- Evaluation report ---\n",
      "Epoch 15: 0.19304521504147776\n",
      "--- Evaluation report ---\n",
      "Epoch 15: 0.19295913970061906\n",
      "--- Evaluation report ---\n",
      "Epoch 15: 0.19284330729060212\n",
      "--- Evaluation report ---\n",
      "Epoch 15: 0.19288103272052304\n",
      "--- Evaluation report ---\n",
      "Epoch 15: 0.19299997577404623\n",
      "--- Evaluation report ---\n",
      "Epoch 15: 0.1930346189681641\n",
      "--- Evaluation report ---\n",
      "Epoch 15: 0.1928023575863619\n",
      "--- Evaluation report ---\n",
      "Epoch 15: 0.1926208749741257\n",
      "--- Evaluation report ---\n",
      "Epoch 15: 0.19251306774027796\n",
      "--- Evaluation report ---\n",
      "Epoch 15: 0.19229334835946232\n",
      "--- Evaluation report ---\n",
      "Epoch 15: 0.19232749441877325\n",
      "--- Evaluation report ---\n",
      "Epoch 15: 0.1922018187395789\n",
      "--- Evaluation report ---\n",
      "Epoch 15: 0.19239923807334042\n",
      "--- Evaluation report ---\n",
      "Epoch 15: 0.192161124704668\n",
      "--- Evaluation report ---\n",
      "Epoch 15: 0.19240335719031224\n",
      "--- Evaluation report ---\n",
      "Epoch 15: 0.19235330281717924\n",
      "--- Evaluation report ---\n",
      "Epoch 15: 0.19240457872155212\n",
      "--- Evaluation report ---\n",
      "Epoch 15: 0.1922081678612561\n",
      "--- Evaluation report ---\n",
      "Epoch 15: 0.19207709471844361\n",
      "--- Evaluation report ---\n",
      "Epoch 15: 0.19222062463913284\n",
      "--- Evaluation report ---\n",
      "Epoch 15: 0.19246369515202305\n",
      "--- Evaluation report ---\n",
      "Epoch 15: 0.19257644532623697\n",
      "--- Evaluation report ---\n",
      "Epoch 15: 0.19263156473683773\n",
      "--- Evaluation report ---\n",
      "Epoch 15: 0.19275086862421462\n"
     ]
    },
    {
     "data": {
      "application/vnd.jupyter.widget-view+json": {
       "model_id": "daf3533213264ba2aec46b7146b1d51a",
       "version_major": 2,
       "version_minor": 0
      },
      "text/plain": [
       "Iteration:   0%|          | 0/39 [00:00<?, ?it/s]"
      ]
     },
     "metadata": {},
     "output_type": "display_data"
    },
    {
     "data": {
      "application/vnd.jupyter.widget-view+json": {
       "model_id": "4e60098d354547d999f4f0d0d0721949",
       "version_major": 2,
       "version_minor": 0
      },
      "text/plain": [
       "Iteration:   0%|          | 0/39 [00:00<?, ?it/s]"
      ]
     },
     "metadata": {},
     "output_type": "display_data"
    },
    {
     "data": {
      "application/vnd.jupyter.widget-view+json": {
       "model_id": "72875c579eeb40ba913f49eca6d27fa2",
       "version_major": 2,
       "version_minor": 0
      },
      "text/plain": [
       "Iteration:   0%|          | 0/39 [00:00<?, ?it/s]"
      ]
     },
     "metadata": {},
     "output_type": "display_data"
    },
    {
     "data": {
      "application/vnd.jupyter.widget-view+json": {
       "model_id": "ff4954541da1444a90cd83b1366b174f",
       "version_major": 2,
       "version_minor": 0
      },
      "text/plain": [
       "Iteration:   0%|          | 0/39 [00:00<?, ?it/s]"
      ]
     },
     "metadata": {},
     "output_type": "display_data"
    }
   ],
   "source": [
    "model.fit(train_objectives=[(train_dataloader, train_loss)], epochs=20,\n",
    "          warmup_steps=100, evaluator=evaluator, evaluation_steps=500,\n",
    "          output_path='roberta_model', show_progress_bar=True, callback=callback)"
   ]
  },
  {
   "cell_type": "markdown",
   "id": "d489a444",
   "metadata": {},
   "source": [
    "## Inspeccionar loss"
   ]
  },
  {
   "cell_type": "code",
   "execution_count": 12,
   "id": "b1bb3c4d",
   "metadata": {},
   "outputs": [],
   "source": [
    "with open('roberta_model/loss_digest.json') as fl:\n",
    "    historic_loss = json.load(fl)"
   ]
  },
  {
   "cell_type": "code",
   "execution_count": 13,
   "id": "0c352fdb",
   "metadata": {},
   "outputs": [
    {
     "data": {
      "text/plain": [
       "Text(0, 0.5, 'Loss0')"
      ]
     },
     "execution_count": 13,
     "metadata": {},
     "output_type": "execute_result"
    },
    {
     "data": {
      "image/png": "[encoded data removed]",
      "text/plain": [
       "<Figure size 432x288 with 1 Axes>"
      ]
     },
     "metadata": {
      "needs_background": "light"
     },
     "output_type": "display_data"
    }
   ],
   "source": [
    "plt.plot(range(len(historic_loss['0'])), historic_loss['0'])\n",
    "plt.xlabel('Step')\n",
    "plt.ylabel('Loss0')\n",
    "#plt.legend('Loss0', ncol=2, loc='upper left');"
   ]
  },
  {
   "cell_type": "code",
   "execution_count": 14,
   "id": "d4969424",
   "metadata": {},
   "outputs": [
    {
     "data": {
      "text/html": [
       "<div>\n",
       "<style scoped>\n",
       "    .dataframe tbody tr th:only-of-type {\n",
       "        vertical-align: middle;\n",
       "    }\n",
       "\n",
       "    .dataframe tbody tr th {\n",
       "        vertical-align: top;\n",
       "    }\n",
       "\n",
       "    .dataframe thead th {\n",
       "        text-align: right;\n",
       "    }\n",
       "</style>\n",
       "<table border=\"1\" class=\"dataframe\">\n",
       "  <thead>\n",
       "    <tr style=\"text-align: right;\">\n",
       "      <th></th>\n",
       "      <th>epoch</th>\n",
       "      <th>cosine_pearson</th>\n",
       "      <th>cosine_spearman</th>\n",
       "      <th>euclidean_pearson</th>\n",
       "      <th>euclidean_spearman</th>\n",
       "      <th>manhattan_pearson</th>\n",
       "      <th>manhattan_spearman</th>\n",
       "      <th>dot_pearson</th>\n",
       "      <th>dot_spearman</th>\n",
       "    </tr>\n",
       "  </thead>\n",
       "  <tbody>\n",
       "    <tr>\n",
       "      <th>0</th>\n",
       "      <td>0</td>\n",
       "      <td>0.587317</td>\n",
       "      <td>0.513780</td>\n",
       "      <td>0.590866</td>\n",
       "      <td>0.512060</td>\n",
       "      <td>0.590025</td>\n",
       "      <td>0.511199</td>\n",
       "      <td>0.263039</td>\n",
       "      <td>0.230256</td>\n",
       "    </tr>\n",
       "    <tr>\n",
       "      <th>1</th>\n",
       "      <td>0</td>\n",
       "      <td>0.587302</td>\n",
       "      <td>0.513784</td>\n",
       "      <td>0.590856</td>\n",
       "      <td>0.512160</td>\n",
       "      <td>0.590021</td>\n",
       "      <td>0.511141</td>\n",
       "      <td>0.263160</td>\n",
       "      <td>0.230337</td>\n",
       "    </tr>\n",
       "    <tr>\n",
       "      <th>2</th>\n",
       "      <td>0</td>\n",
       "      <td>0.587314</td>\n",
       "      <td>0.513738</td>\n",
       "      <td>0.590858</td>\n",
       "      <td>0.512073</td>\n",
       "      <td>0.590027</td>\n",
       "      <td>0.511165</td>\n",
       "      <td>0.263219</td>\n",
       "      <td>0.230406</td>\n",
       "    </tr>\n",
       "    <tr>\n",
       "      <th>3</th>\n",
       "      <td>0</td>\n",
       "      <td>0.587294</td>\n",
       "      <td>0.513809</td>\n",
       "      <td>0.590844</td>\n",
       "      <td>0.512117</td>\n",
       "      <td>0.590008</td>\n",
       "      <td>0.511115</td>\n",
       "      <td>0.263231</td>\n",
       "      <td>0.230453</td>\n",
       "    </tr>\n",
       "    <tr>\n",
       "      <th>4</th>\n",
       "      <td>0</td>\n",
       "      <td>0.587314</td>\n",
       "      <td>0.513739</td>\n",
       "      <td>0.590855</td>\n",
       "      <td>0.512166</td>\n",
       "      <td>0.590021</td>\n",
       "      <td>0.511154</td>\n",
       "      <td>0.263133</td>\n",
       "      <td>0.230636</td>\n",
       "    </tr>\n",
       "    <tr>\n",
       "      <th>...</th>\n",
       "      <td>...</td>\n",
       "      <td>...</td>\n",
       "      <td>...</td>\n",
       "      <td>...</td>\n",
       "      <td>...</td>\n",
       "      <td>...</td>\n",
       "      <td>...</td>\n",
       "      <td>...</td>\n",
       "      <td>...</td>\n",
       "    </tr>\n",
       "    <tr>\n",
       "      <th>775</th>\n",
       "      <td>19</td>\n",
       "      <td>0.150136</td>\n",
       "      <td>0.188502</td>\n",
       "      <td>0.170728</td>\n",
       "      <td>0.191592</td>\n",
       "      <td>0.170272</td>\n",
       "      <td>0.189913</td>\n",
       "      <td>0.131947</td>\n",
       "      <td>0.148978</td>\n",
       "    </tr>\n",
       "    <tr>\n",
       "      <th>776</th>\n",
       "      <td>19</td>\n",
       "      <td>0.150110</td>\n",
       "      <td>0.188463</td>\n",
       "      <td>0.170709</td>\n",
       "      <td>0.191589</td>\n",
       "      <td>0.170258</td>\n",
       "      <td>0.189749</td>\n",
       "      <td>0.131973</td>\n",
       "      <td>0.148960</td>\n",
       "    </tr>\n",
       "    <tr>\n",
       "      <th>777</th>\n",
       "      <td>19</td>\n",
       "      <td>0.150148</td>\n",
       "      <td>0.188724</td>\n",
       "      <td>0.170765</td>\n",
       "      <td>0.191729</td>\n",
       "      <td>0.170314</td>\n",
       "      <td>0.190063</td>\n",
       "      <td>0.131991</td>\n",
       "      <td>0.148901</td>\n",
       "    </tr>\n",
       "    <tr>\n",
       "      <th>778</th>\n",
       "      <td>19</td>\n",
       "      <td>0.150118</td>\n",
       "      <td>0.188602</td>\n",
       "      <td>0.170735</td>\n",
       "      <td>0.191878</td>\n",
       "      <td>0.170285</td>\n",
       "      <td>0.189924</td>\n",
       "      <td>0.131960</td>\n",
       "      <td>0.149014</td>\n",
       "    </tr>\n",
       "    <tr>\n",
       "      <th>779</th>\n",
       "      <td>19</td>\n",
       "      <td>0.150203</td>\n",
       "      <td>0.188798</td>\n",
       "      <td>0.170807</td>\n",
       "      <td>0.191776</td>\n",
       "      <td>0.170353</td>\n",
       "      <td>0.189909</td>\n",
       "      <td>0.132032</td>\n",
       "      <td>0.148983</td>\n",
       "    </tr>\n",
       "  </tbody>\n",
       "</table>\n",
       "<p>780 rows × 9 columns</p>\n",
       "</div>"
      ],
      "text/plain": [
       "     epoch  cosine_pearson  cosine_spearman  euclidean_pearson  \\\n",
       "0        0        0.587317         0.513780           0.590866   \n",
       "1        0        0.587302         0.513784           0.590856   \n",
       "2        0        0.587314         0.513738           0.590858   \n",
       "3        0        0.587294         0.513809           0.590844   \n",
       "4        0        0.587314         0.513739           0.590855   \n",
       "..     ...             ...              ...                ...   \n",
       "775     19        0.150136         0.188502           0.170728   \n",
       "776     19        0.150110         0.188463           0.170709   \n",
       "777     19        0.150148         0.188724           0.170765   \n",
       "778     19        0.150118         0.188602           0.170735   \n",
       "779     19        0.150203         0.188798           0.170807   \n",
       "\n",
       "     euclidean_spearman  manhattan_pearson  manhattan_spearman  dot_pearson  \\\n",
       "0              0.512060           0.590025            0.511199     0.263039   \n",
       "1              0.512160           0.590021            0.511141     0.263160   \n",
       "2              0.512073           0.590027            0.511165     0.263219   \n",
       "3              0.512117           0.590008            0.511115     0.263231   \n",
       "4              0.512166           0.590021            0.511154     0.263133   \n",
       "..                  ...                ...                 ...          ...   \n",
       "775            0.191592           0.170272            0.189913     0.131947   \n",
       "776            0.191589           0.170258            0.189749     0.131973   \n",
       "777            0.191729           0.170314            0.190063     0.131991   \n",
       "778            0.191878           0.170285            0.189924     0.131960   \n",
       "779            0.191776           0.170353            0.189909     0.132032   \n",
       "\n",
       "     dot_spearman  \n",
       "0        0.230256  \n",
       "1        0.230337  \n",
       "2        0.230406  \n",
       "3        0.230453  \n",
       "4        0.230636  \n",
       "..            ...  \n",
       "775      0.148978  \n",
       "776      0.148960  \n",
       "777      0.148901  \n",
       "778      0.149014  \n",
       "779      0.148983  \n",
       "\n",
       "[780 rows x 9 columns]"
      ]
     },
     "execution_count": 14,
     "metadata": {},
     "output_type": "execute_result"
    }
   ],
   "source": [
    "evaluation = pd.read_csv('roberta_model/eval/similarity_evaluation_dev-sts_results.csv')\n",
    "evaluation.drop(columns=['steps'])"
   ]
  },
  {
   "cell_type": "markdown",
   "id": "b412d2d1",
   "metadata": {},
   "source": [
    "Si se quiere evaluar con el mismo ESXNLI usar este código\n",
    "```\n",
    "entailment_samples = []\n",
    "contradiction_samples = []\n",
    "neutral_samples = []\n",
    "\n",
    "dataset = {'entailment': entailment_samples,\n",
    "           'contradiction': contradiction_samples,\n",
    "           'neutral': neutral_samples}\n",
    "\n",
    "for k in dataset:\n",
    "    subsample = es_only_data[es_only_data.gold_label == k]\n",
    "    for label, s1, s2 in subsample[['gold_label', 'sentence1', 'sentence2']].values:\n",
    "        input_example = InputExample(texts=[s1, s2], label=label2int[label])\n",
    "        dataset[k].append(input_example)\n",
    "\n",
    "train_examples = []\n",
    "test_examples = []\n",
    "for k in dataset:\n",
    "    train_subsample, test_subsample = train_test_split(dataset[k], test_size=0.2, random_state=42)\n",
    "    train_examples += train_subsample\n",
    "    test_examples += test_subsample\n",
    "    \n",
    "print('Train examples {}, Test examples {}'.format(len(train_examples), len(test_examples)))\n",
    "train_dataloader = DataLoader(train_examples, shuffle=True, batch_size=64, drop_last=False)\n",
    "```\n",
    "\n"
   ]
  }
 ],
 "metadata": {
  "kernelspec": {
   "display_name": "Python 3",
   "language": "python",
   "name": "python3"
  },
  "language_info": {
   "codemirror_mode": {
    "name": "ipython",
    "version": 3
   },
   "file_extension": ".py",
   "mimetype": "text/x-python",
   "name": "python",
   "nbconvert_exporter": "python",
   "pygments_lexer": "ipython3",
   "version": "3.9.5"
  }
 },
 "nbformat": 4,
 "nbformat_minor": 5
}
